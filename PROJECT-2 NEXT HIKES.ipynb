{
 "cells": [
  {
   "cell_type": "code",
   "execution_count": 1,
   "id": "92c5a708",
   "metadata": {},
   "outputs": [],
   "source": [
    "import pandas as pd \n",
    "import numpy as np \n",
    "from scipy.stats import skew"
   ]
  },
  {
   "cell_type": "code",
   "execution_count": 3,
   "id": "95a6b654",
   "metadata": {},
   "outputs": [
    {
     "data": {
      "text/html": [
       "<div>\n",
       "<style scoped>\n",
       "    .dataframe tbody tr th:only-of-type {\n",
       "        vertical-align: middle;\n",
       "    }\n",
       "\n",
       "    .dataframe tbody tr th {\n",
       "        vertical-align: top;\n",
       "    }\n",
       "\n",
       "    .dataframe thead th {\n",
       "        text-align: right;\n",
       "    }\n",
       "</style>\n",
       "<table border=\"1\" class=\"dataframe\">\n",
       "  <thead>\n",
       "    <tr style=\"text-align: right;\">\n",
       "      <th></th>\n",
       "      <th>instant</th>\n",
       "      <th>dteday</th>\n",
       "      <th>season</th>\n",
       "      <th>yr</th>\n",
       "      <th>mnth</th>\n",
       "      <th>hr</th>\n",
       "      <th>holiday</th>\n",
       "      <th>weekday</th>\n",
       "      <th>weathersit</th>\n",
       "      <th>temp</th>\n",
       "    </tr>\n",
       "  </thead>\n",
       "  <tbody>\n",
       "    <tr>\n",
       "      <th>0</th>\n",
       "      <td>1</td>\n",
       "      <td>01-01-2011</td>\n",
       "      <td>1</td>\n",
       "      <td>0</td>\n",
       "      <td>1</td>\n",
       "      <td>0</td>\n",
       "      <td>False</td>\n",
       "      <td>6</td>\n",
       "      <td>1</td>\n",
       "      <td>0.24</td>\n",
       "    </tr>\n",
       "    <tr>\n",
       "      <th>1</th>\n",
       "      <td>2</td>\n",
       "      <td>01-01-2011</td>\n",
       "      <td>1</td>\n",
       "      <td>0</td>\n",
       "      <td>1</td>\n",
       "      <td>1</td>\n",
       "      <td>False</td>\n",
       "      <td>6</td>\n",
       "      <td>1</td>\n",
       "      <td>0.22</td>\n",
       "    </tr>\n",
       "    <tr>\n",
       "      <th>2</th>\n",
       "      <td>3</td>\n",
       "      <td>01-01-2011</td>\n",
       "      <td>1</td>\n",
       "      <td>0</td>\n",
       "      <td>1</td>\n",
       "      <td>2</td>\n",
       "      <td>False</td>\n",
       "      <td>6</td>\n",
       "      <td>1</td>\n",
       "      <td>0.22</td>\n",
       "    </tr>\n",
       "    <tr>\n",
       "      <th>3</th>\n",
       "      <td>4</td>\n",
       "      <td>01-01-2011</td>\n",
       "      <td>1</td>\n",
       "      <td>0</td>\n",
       "      <td>1</td>\n",
       "      <td>3</td>\n",
       "      <td>False</td>\n",
       "      <td>6</td>\n",
       "      <td>1</td>\n",
       "      <td>0.24</td>\n",
       "    </tr>\n",
       "    <tr>\n",
       "      <th>4</th>\n",
       "      <td>5</td>\n",
       "      <td>01-01-2011</td>\n",
       "      <td>1</td>\n",
       "      <td>0</td>\n",
       "      <td>1</td>\n",
       "      <td>4</td>\n",
       "      <td>False</td>\n",
       "      <td>6</td>\n",
       "      <td>1</td>\n",
       "      <td>0.24</td>\n",
       "    </tr>\n",
       "    <tr>\n",
       "      <th>...</th>\n",
       "      <td>...</td>\n",
       "      <td>...</td>\n",
       "      <td>...</td>\n",
       "      <td>...</td>\n",
       "      <td>...</td>\n",
       "      <td>...</td>\n",
       "      <td>...</td>\n",
       "      <td>...</td>\n",
       "      <td>...</td>\n",
       "      <td>...</td>\n",
       "    </tr>\n",
       "    <tr>\n",
       "      <th>605</th>\n",
       "      <td>606</td>\n",
       "      <td>28-01-2011</td>\n",
       "      <td>1</td>\n",
       "      <td>0</td>\n",
       "      <td>1</td>\n",
       "      <td>11</td>\n",
       "      <td>False</td>\n",
       "      <td>5</td>\n",
       "      <td>3</td>\n",
       "      <td>0.18</td>\n",
       "    </tr>\n",
       "    <tr>\n",
       "      <th>606</th>\n",
       "      <td>607</td>\n",
       "      <td>28-01-2011</td>\n",
       "      <td>1</td>\n",
       "      <td>0</td>\n",
       "      <td>1</td>\n",
       "      <td>12</td>\n",
       "      <td>False</td>\n",
       "      <td>5</td>\n",
       "      <td>3</td>\n",
       "      <td>0.18</td>\n",
       "    </tr>\n",
       "    <tr>\n",
       "      <th>607</th>\n",
       "      <td>608</td>\n",
       "      <td>28-01-2011</td>\n",
       "      <td>1</td>\n",
       "      <td>0</td>\n",
       "      <td>1</td>\n",
       "      <td>13</td>\n",
       "      <td>False</td>\n",
       "      <td>5</td>\n",
       "      <td>3</td>\n",
       "      <td>0.18</td>\n",
       "    </tr>\n",
       "    <tr>\n",
       "      <th>608</th>\n",
       "      <td>609</td>\n",
       "      <td>28-01-2011</td>\n",
       "      <td>1</td>\n",
       "      <td>0</td>\n",
       "      <td>1</td>\n",
       "      <td>14</td>\n",
       "      <td>False</td>\n",
       "      <td>5</td>\n",
       "      <td>3</td>\n",
       "      <td>0.22</td>\n",
       "    </tr>\n",
       "    <tr>\n",
       "      <th>609</th>\n",
       "      <td>610</td>\n",
       "      <td>28-01-2011</td>\n",
       "      <td>1</td>\n",
       "      <td>0</td>\n",
       "      <td>1</td>\n",
       "      <td>15</td>\n",
       "      <td>False</td>\n",
       "      <td>5</td>\n",
       "      <td>2</td>\n",
       "      <td>0.20</td>\n",
       "    </tr>\n",
       "  </tbody>\n",
       "</table>\n",
       "<p>610 rows × 10 columns</p>\n",
       "</div>"
      ],
      "text/plain": [
       "     instant      dteday  season  yr  mnth  hr  holiday  weekday  weathersit  \\\n",
       "0          1  01-01-2011       1   0     1   0    False        6           1   \n",
       "1          2  01-01-2011       1   0     1   1    False        6           1   \n",
       "2          3  01-01-2011       1   0     1   2    False        6           1   \n",
       "3          4  01-01-2011       1   0     1   3    False        6           1   \n",
       "4          5  01-01-2011       1   0     1   4    False        6           1   \n",
       "..       ...         ...     ...  ..   ...  ..      ...      ...         ...   \n",
       "605      606  28-01-2011       1   0     1  11    False        5           3   \n",
       "606      607  28-01-2011       1   0     1  12    False        5           3   \n",
       "607      608  28-01-2011       1   0     1  13    False        5           3   \n",
       "608      609  28-01-2011       1   0     1  14    False        5           3   \n",
       "609      610  28-01-2011       1   0     1  15    False        5           2   \n",
       "\n",
       "     temp  \n",
       "0    0.24  \n",
       "1    0.22  \n",
       "2    0.22  \n",
       "3    0.24  \n",
       "4    0.24  \n",
       "..    ...  \n",
       "605  0.18  \n",
       "606  0.18  \n",
       "607  0.18  \n",
       "608  0.22  \n",
       "609  0.20  \n",
       "\n",
       "[610 rows x 10 columns]"
      ]
     },
     "execution_count": 3,
     "metadata": {},
     "output_type": "execute_result"
    }
   ],
   "source": [
    "df1 = pd.read_csv('data1.csv')\n",
    "df1"
   ]
  },
  {
   "cell_type": "code",
   "execution_count": 4,
   "id": "9ee58ebc",
   "metadata": {},
   "outputs": [
    {
     "data": {
      "text/html": [
       "<div>\n",
       "<style scoped>\n",
       "    .dataframe tbody tr th:only-of-type {\n",
       "        vertical-align: middle;\n",
       "    }\n",
       "\n",
       "    .dataframe tbody tr th {\n",
       "        vertical-align: top;\n",
       "    }\n",
       "\n",
       "    .dataframe thead th {\n",
       "        text-align: right;\n",
       "    }\n",
       "</style>\n",
       "<table border=\"1\" class=\"dataframe\">\n",
       "  <thead>\n",
       "    <tr style=\"text-align: right;\">\n",
       "      <th></th>\n",
       "      <th>Unnamed: 0</th>\n",
       "      <th>instant</th>\n",
       "      <th>atemp</th>\n",
       "      <th>hum</th>\n",
       "      <th>windspeed</th>\n",
       "      <th>casual</th>\n",
       "      <th>registered</th>\n",
       "      <th>cnt</th>\n",
       "    </tr>\n",
       "  </thead>\n",
       "  <tbody>\n",
       "    <tr>\n",
       "      <th>0</th>\n",
       "      <td>0</td>\n",
       "      <td>1</td>\n",
       "      <td>0.2879</td>\n",
       "      <td>0.81</td>\n",
       "      <td>0.0000</td>\n",
       "      <td>3</td>\n",
       "      <td>13</td>\n",
       "      <td>16</td>\n",
       "    </tr>\n",
       "    <tr>\n",
       "      <th>1</th>\n",
       "      <td>1</td>\n",
       "      <td>2</td>\n",
       "      <td>0.2727</td>\n",
       "      <td>0.80</td>\n",
       "      <td>0.0000</td>\n",
       "      <td>8</td>\n",
       "      <td>32</td>\n",
       "      <td>40</td>\n",
       "    </tr>\n",
       "    <tr>\n",
       "      <th>2</th>\n",
       "      <td>2</td>\n",
       "      <td>3</td>\n",
       "      <td>0.2727</td>\n",
       "      <td>0.80</td>\n",
       "      <td>0.0000</td>\n",
       "      <td>5</td>\n",
       "      <td>27</td>\n",
       "      <td>32</td>\n",
       "    </tr>\n",
       "    <tr>\n",
       "      <th>3</th>\n",
       "      <td>3</td>\n",
       "      <td>4</td>\n",
       "      <td>0.2879</td>\n",
       "      <td>0.75</td>\n",
       "      <td>0.0000</td>\n",
       "      <td>3</td>\n",
       "      <td>10</td>\n",
       "      <td>13</td>\n",
       "    </tr>\n",
       "    <tr>\n",
       "      <th>4</th>\n",
       "      <td>4</td>\n",
       "      <td>5</td>\n",
       "      <td>0.2879</td>\n",
       "      <td>0.75</td>\n",
       "      <td>0.0000</td>\n",
       "      <td>0</td>\n",
       "      <td>1</td>\n",
       "      <td>1</td>\n",
       "    </tr>\n",
       "    <tr>\n",
       "      <th>...</th>\n",
       "      <td>...</td>\n",
       "      <td>...</td>\n",
       "      <td>...</td>\n",
       "      <td>...</td>\n",
       "      <td>...</td>\n",
       "      <td>...</td>\n",
       "      <td>...</td>\n",
       "      <td>...</td>\n",
       "    </tr>\n",
       "    <tr>\n",
       "      <th>605</th>\n",
       "      <td>605</td>\n",
       "      <td>606</td>\n",
       "      <td>0.2121</td>\n",
       "      <td>0.93</td>\n",
       "      <td>0.1045</td>\n",
       "      <td>0</td>\n",
       "      <td>30</td>\n",
       "      <td>30</td>\n",
       "    </tr>\n",
       "    <tr>\n",
       "      <th>606</th>\n",
       "      <td>606</td>\n",
       "      <td>607</td>\n",
       "      <td>0.2121</td>\n",
       "      <td>0.93</td>\n",
       "      <td>0.1045</td>\n",
       "      <td>1</td>\n",
       "      <td>28</td>\n",
       "      <td>29</td>\n",
       "    </tr>\n",
       "    <tr>\n",
       "      <th>607</th>\n",
       "      <td>607</td>\n",
       "      <td>608</td>\n",
       "      <td>0.2121</td>\n",
       "      <td>0.93</td>\n",
       "      <td>0.1045</td>\n",
       "      <td>0</td>\n",
       "      <td>31</td>\n",
       "      <td>31</td>\n",
       "    </tr>\n",
       "    <tr>\n",
       "      <th>608</th>\n",
       "      <td>608</td>\n",
       "      <td>609</td>\n",
       "      <td>0.2727</td>\n",
       "      <td>0.80</td>\n",
       "      <td>0.0000</td>\n",
       "      <td>2</td>\n",
       "      <td>36</td>\n",
       "      <td>38</td>\n",
       "    </tr>\n",
       "    <tr>\n",
       "      <th>609</th>\n",
       "      <td>609</td>\n",
       "      <td>610</td>\n",
       "      <td>0.2576</td>\n",
       "      <td>0.86</td>\n",
       "      <td>0.0000</td>\n",
       "      <td>1</td>\n",
       "      <td>40</td>\n",
       "      <td>41</td>\n",
       "    </tr>\n",
       "  </tbody>\n",
       "</table>\n",
       "<p>610 rows × 8 columns</p>\n",
       "</div>"
      ],
      "text/plain": [
       "     Unnamed: 0  instant   atemp   hum  windspeed  casual  registered  cnt\n",
       "0             0        1  0.2879  0.81     0.0000       3          13   16\n",
       "1             1        2  0.2727  0.80     0.0000       8          32   40\n",
       "2             2        3  0.2727  0.80     0.0000       5          27   32\n",
       "3             3        4  0.2879  0.75     0.0000       3          10   13\n",
       "4             4        5  0.2879  0.75     0.0000       0           1    1\n",
       "..          ...      ...     ...   ...        ...     ...         ...  ...\n",
       "605         605      606  0.2121  0.93     0.1045       0          30   30\n",
       "606         606      607  0.2121  0.93     0.1045       1          28   29\n",
       "607         607      608  0.2121  0.93     0.1045       0          31   31\n",
       "608         608      609  0.2727  0.80     0.0000       2          36   38\n",
       "609         609      610  0.2576  0.86     0.0000       1          40   41\n",
       "\n",
       "[610 rows x 8 columns]"
      ]
     },
     "execution_count": 4,
     "metadata": {},
     "output_type": "execute_result"
    }
   ],
   "source": [
    "df2 = pd.read_csv('data2.csv')\n",
    "df2"
   ]
  },
  {
   "cell_type": "markdown",
   "id": "3dcda7ef",
   "metadata": {},
   "source": [
    "# Merge datasets"
   ]
  },
  {
   "cell_type": "code",
   "execution_count": 65,
   "id": "a02be552",
   "metadata": {},
   "outputs": [
    {
     "data": {
      "text/html": [
       "<div>\n",
       "<style scoped>\n",
       "    .dataframe tbody tr th:only-of-type {\n",
       "        vertical-align: middle;\n",
       "    }\n",
       "\n",
       "    .dataframe tbody tr th {\n",
       "        vertical-align: top;\n",
       "    }\n",
       "\n",
       "    .dataframe thead th {\n",
       "        text-align: right;\n",
       "    }\n",
       "</style>\n",
       "<table border=\"1\" class=\"dataframe\">\n",
       "  <thead>\n",
       "    <tr style=\"text-align: right;\">\n",
       "      <th></th>\n",
       "      <th>instant</th>\n",
       "      <th>dteday</th>\n",
       "      <th>season</th>\n",
       "      <th>yr</th>\n",
       "      <th>mnth</th>\n",
       "      <th>hr</th>\n",
       "      <th>holiday</th>\n",
       "      <th>weekday</th>\n",
       "      <th>weathersit</th>\n",
       "      <th>temp</th>\n",
       "      <th>Unnamed: 0</th>\n",
       "      <th>atemp</th>\n",
       "      <th>hum</th>\n",
       "      <th>windspeed</th>\n",
       "      <th>casual</th>\n",
       "      <th>registered</th>\n",
       "      <th>cnt</th>\n",
       "    </tr>\n",
       "  </thead>\n",
       "  <tbody>\n",
       "    <tr>\n",
       "      <th>0</th>\n",
       "      <td>1</td>\n",
       "      <td>01-01-2011</td>\n",
       "      <td>1</td>\n",
       "      <td>0</td>\n",
       "      <td>1</td>\n",
       "      <td>0</td>\n",
       "      <td>False</td>\n",
       "      <td>6</td>\n",
       "      <td>1</td>\n",
       "      <td>0.24</td>\n",
       "      <td>0</td>\n",
       "      <td>0.2879</td>\n",
       "      <td>0.81</td>\n",
       "      <td>0.0000</td>\n",
       "      <td>3</td>\n",
       "      <td>13</td>\n",
       "      <td>16</td>\n",
       "    </tr>\n",
       "    <tr>\n",
       "      <th>1</th>\n",
       "      <td>2</td>\n",
       "      <td>01-01-2011</td>\n",
       "      <td>1</td>\n",
       "      <td>0</td>\n",
       "      <td>1</td>\n",
       "      <td>1</td>\n",
       "      <td>False</td>\n",
       "      <td>6</td>\n",
       "      <td>1</td>\n",
       "      <td>0.22</td>\n",
       "      <td>1</td>\n",
       "      <td>0.2727</td>\n",
       "      <td>0.80</td>\n",
       "      <td>0.0000</td>\n",
       "      <td>8</td>\n",
       "      <td>32</td>\n",
       "      <td>40</td>\n",
       "    </tr>\n",
       "    <tr>\n",
       "      <th>2</th>\n",
       "      <td>3</td>\n",
       "      <td>01-01-2011</td>\n",
       "      <td>1</td>\n",
       "      <td>0</td>\n",
       "      <td>1</td>\n",
       "      <td>2</td>\n",
       "      <td>False</td>\n",
       "      <td>6</td>\n",
       "      <td>1</td>\n",
       "      <td>0.22</td>\n",
       "      <td>2</td>\n",
       "      <td>0.2727</td>\n",
       "      <td>0.80</td>\n",
       "      <td>0.0000</td>\n",
       "      <td>5</td>\n",
       "      <td>27</td>\n",
       "      <td>32</td>\n",
       "    </tr>\n",
       "    <tr>\n",
       "      <th>3</th>\n",
       "      <td>4</td>\n",
       "      <td>01-01-2011</td>\n",
       "      <td>1</td>\n",
       "      <td>0</td>\n",
       "      <td>1</td>\n",
       "      <td>3</td>\n",
       "      <td>False</td>\n",
       "      <td>6</td>\n",
       "      <td>1</td>\n",
       "      <td>0.24</td>\n",
       "      <td>3</td>\n",
       "      <td>0.2879</td>\n",
       "      <td>0.75</td>\n",
       "      <td>0.0000</td>\n",
       "      <td>3</td>\n",
       "      <td>10</td>\n",
       "      <td>13</td>\n",
       "    </tr>\n",
       "    <tr>\n",
       "      <th>4</th>\n",
       "      <td>5</td>\n",
       "      <td>01-01-2011</td>\n",
       "      <td>1</td>\n",
       "      <td>0</td>\n",
       "      <td>1</td>\n",
       "      <td>4</td>\n",
       "      <td>False</td>\n",
       "      <td>6</td>\n",
       "      <td>1</td>\n",
       "      <td>0.24</td>\n",
       "      <td>4</td>\n",
       "      <td>0.2879</td>\n",
       "      <td>0.75</td>\n",
       "      <td>0.0000</td>\n",
       "      <td>0</td>\n",
       "      <td>1</td>\n",
       "      <td>1</td>\n",
       "    </tr>\n",
       "    <tr>\n",
       "      <th>...</th>\n",
       "      <td>...</td>\n",
       "      <td>...</td>\n",
       "      <td>...</td>\n",
       "      <td>...</td>\n",
       "      <td>...</td>\n",
       "      <td>...</td>\n",
       "      <td>...</td>\n",
       "      <td>...</td>\n",
       "      <td>...</td>\n",
       "      <td>...</td>\n",
       "      <td>...</td>\n",
       "      <td>...</td>\n",
       "      <td>...</td>\n",
       "      <td>...</td>\n",
       "      <td>...</td>\n",
       "      <td>...</td>\n",
       "      <td>...</td>\n",
       "    </tr>\n",
       "    <tr>\n",
       "      <th>605</th>\n",
       "      <td>606</td>\n",
       "      <td>28-01-2011</td>\n",
       "      <td>1</td>\n",
       "      <td>0</td>\n",
       "      <td>1</td>\n",
       "      <td>11</td>\n",
       "      <td>False</td>\n",
       "      <td>5</td>\n",
       "      <td>3</td>\n",
       "      <td>0.18</td>\n",
       "      <td>605</td>\n",
       "      <td>0.2121</td>\n",
       "      <td>0.93</td>\n",
       "      <td>0.1045</td>\n",
       "      <td>0</td>\n",
       "      <td>30</td>\n",
       "      <td>30</td>\n",
       "    </tr>\n",
       "    <tr>\n",
       "      <th>606</th>\n",
       "      <td>607</td>\n",
       "      <td>28-01-2011</td>\n",
       "      <td>1</td>\n",
       "      <td>0</td>\n",
       "      <td>1</td>\n",
       "      <td>12</td>\n",
       "      <td>False</td>\n",
       "      <td>5</td>\n",
       "      <td>3</td>\n",
       "      <td>0.18</td>\n",
       "      <td>606</td>\n",
       "      <td>0.2121</td>\n",
       "      <td>0.93</td>\n",
       "      <td>0.1045</td>\n",
       "      <td>1</td>\n",
       "      <td>28</td>\n",
       "      <td>29</td>\n",
       "    </tr>\n",
       "    <tr>\n",
       "      <th>607</th>\n",
       "      <td>608</td>\n",
       "      <td>28-01-2011</td>\n",
       "      <td>1</td>\n",
       "      <td>0</td>\n",
       "      <td>1</td>\n",
       "      <td>13</td>\n",
       "      <td>False</td>\n",
       "      <td>5</td>\n",
       "      <td>3</td>\n",
       "      <td>0.18</td>\n",
       "      <td>607</td>\n",
       "      <td>0.2121</td>\n",
       "      <td>0.93</td>\n",
       "      <td>0.1045</td>\n",
       "      <td>0</td>\n",
       "      <td>31</td>\n",
       "      <td>31</td>\n",
       "    </tr>\n",
       "    <tr>\n",
       "      <th>608</th>\n",
       "      <td>609</td>\n",
       "      <td>28-01-2011</td>\n",
       "      <td>1</td>\n",
       "      <td>0</td>\n",
       "      <td>1</td>\n",
       "      <td>14</td>\n",
       "      <td>False</td>\n",
       "      <td>5</td>\n",
       "      <td>3</td>\n",
       "      <td>0.22</td>\n",
       "      <td>608</td>\n",
       "      <td>0.2727</td>\n",
       "      <td>0.80</td>\n",
       "      <td>0.0000</td>\n",
       "      <td>2</td>\n",
       "      <td>36</td>\n",
       "      <td>38</td>\n",
       "    </tr>\n",
       "    <tr>\n",
       "      <th>609</th>\n",
       "      <td>610</td>\n",
       "      <td>28-01-2011</td>\n",
       "      <td>1</td>\n",
       "      <td>0</td>\n",
       "      <td>1</td>\n",
       "      <td>15</td>\n",
       "      <td>False</td>\n",
       "      <td>5</td>\n",
       "      <td>2</td>\n",
       "      <td>0.20</td>\n",
       "      <td>609</td>\n",
       "      <td>0.2576</td>\n",
       "      <td>0.86</td>\n",
       "      <td>0.0000</td>\n",
       "      <td>1</td>\n",
       "      <td>40</td>\n",
       "      <td>41</td>\n",
       "    </tr>\n",
       "  </tbody>\n",
       "</table>\n",
       "<p>610 rows × 17 columns</p>\n",
       "</div>"
      ],
      "text/plain": [
       "     instant      dteday  season  yr  mnth  hr  holiday  weekday  weathersit  \\\n",
       "0          1  01-01-2011       1   0     1   0    False        6           1   \n",
       "1          2  01-01-2011       1   0     1   1    False        6           1   \n",
       "2          3  01-01-2011       1   0     1   2    False        6           1   \n",
       "3          4  01-01-2011       1   0     1   3    False        6           1   \n",
       "4          5  01-01-2011       1   0     1   4    False        6           1   \n",
       "..       ...         ...     ...  ..   ...  ..      ...      ...         ...   \n",
       "605      606  28-01-2011       1   0     1  11    False        5           3   \n",
       "606      607  28-01-2011       1   0     1  12    False        5           3   \n",
       "607      608  28-01-2011       1   0     1  13    False        5           3   \n",
       "608      609  28-01-2011       1   0     1  14    False        5           3   \n",
       "609      610  28-01-2011       1   0     1  15    False        5           2   \n",
       "\n",
       "     temp  Unnamed: 0   atemp   hum  windspeed  casual  registered  cnt  \n",
       "0    0.24           0  0.2879  0.81     0.0000       3          13   16  \n",
       "1    0.22           1  0.2727  0.80     0.0000       8          32   40  \n",
       "2    0.22           2  0.2727  0.80     0.0000       5          27   32  \n",
       "3    0.24           3  0.2879  0.75     0.0000       3          10   13  \n",
       "4    0.24           4  0.2879  0.75     0.0000       0           1    1  \n",
       "..    ...         ...     ...   ...        ...     ...         ...  ...  \n",
       "605  0.18         605  0.2121  0.93     0.1045       0          30   30  \n",
       "606  0.18         606  0.2121  0.93     0.1045       1          28   29  \n",
       "607  0.18         607  0.2121  0.93     0.1045       0          31   31  \n",
       "608  0.22         608  0.2727  0.80     0.0000       2          36   38  \n",
       "609  0.20         609  0.2576  0.86     0.0000       1          40   41  \n",
       "\n",
       "[610 rows x 17 columns]"
      ]
     },
     "execution_count": 65,
     "metadata": {},
     "output_type": "execute_result"
    }
   ],
   "source": [
    "merged_data = pd.merge(df1, df2, on='instant' , how = 'inner')\n",
    "merged_data"
   ]
  },
  {
   "cell_type": "markdown",
   "id": "4e09dc4f",
   "metadata": {},
   "source": [
    "# Concatenated data"
   ]
  },
  {
   "cell_type": "code",
   "execution_count": 66,
   "id": "be64c988",
   "metadata": {},
   "outputs": [
    {
     "data": {
      "text/html": [
       "<div>\n",
       "<style scoped>\n",
       "    .dataframe tbody tr th:only-of-type {\n",
       "        vertical-align: middle;\n",
       "    }\n",
       "\n",
       "    .dataframe tbody tr th {\n",
       "        vertical-align: top;\n",
       "    }\n",
       "\n",
       "    .dataframe thead th {\n",
       "        text-align: right;\n",
       "    }\n",
       "</style>\n",
       "<table border=\"1\" class=\"dataframe\">\n",
       "  <thead>\n",
       "    <tr style=\"text-align: right;\">\n",
       "      <th></th>\n",
       "      <th>instant</th>\n",
       "      <th>dteday</th>\n",
       "      <th>season</th>\n",
       "      <th>yr</th>\n",
       "      <th>mnth</th>\n",
       "      <th>hr</th>\n",
       "      <th>holiday</th>\n",
       "      <th>weekday</th>\n",
       "      <th>weathersit</th>\n",
       "      <th>temp</th>\n",
       "      <th>Unnamed: 0</th>\n",
       "      <th>instant</th>\n",
       "      <th>atemp</th>\n",
       "      <th>hum</th>\n",
       "      <th>windspeed</th>\n",
       "      <th>casual</th>\n",
       "      <th>registered</th>\n",
       "      <th>cnt</th>\n",
       "    </tr>\n",
       "  </thead>\n",
       "  <tbody>\n",
       "    <tr>\n",
       "      <th>0</th>\n",
       "      <td>1</td>\n",
       "      <td>01-01-2011</td>\n",
       "      <td>1</td>\n",
       "      <td>0</td>\n",
       "      <td>1</td>\n",
       "      <td>0</td>\n",
       "      <td>False</td>\n",
       "      <td>6</td>\n",
       "      <td>1</td>\n",
       "      <td>0.24</td>\n",
       "      <td>0</td>\n",
       "      <td>1</td>\n",
       "      <td>0.2879</td>\n",
       "      <td>0.81</td>\n",
       "      <td>0.0000</td>\n",
       "      <td>3</td>\n",
       "      <td>13</td>\n",
       "      <td>16</td>\n",
       "    </tr>\n",
       "    <tr>\n",
       "      <th>1</th>\n",
       "      <td>2</td>\n",
       "      <td>01-01-2011</td>\n",
       "      <td>1</td>\n",
       "      <td>0</td>\n",
       "      <td>1</td>\n",
       "      <td>1</td>\n",
       "      <td>False</td>\n",
       "      <td>6</td>\n",
       "      <td>1</td>\n",
       "      <td>0.22</td>\n",
       "      <td>1</td>\n",
       "      <td>2</td>\n",
       "      <td>0.2727</td>\n",
       "      <td>0.80</td>\n",
       "      <td>0.0000</td>\n",
       "      <td>8</td>\n",
       "      <td>32</td>\n",
       "      <td>40</td>\n",
       "    </tr>\n",
       "    <tr>\n",
       "      <th>2</th>\n",
       "      <td>3</td>\n",
       "      <td>01-01-2011</td>\n",
       "      <td>1</td>\n",
       "      <td>0</td>\n",
       "      <td>1</td>\n",
       "      <td>2</td>\n",
       "      <td>False</td>\n",
       "      <td>6</td>\n",
       "      <td>1</td>\n",
       "      <td>0.22</td>\n",
       "      <td>2</td>\n",
       "      <td>3</td>\n",
       "      <td>0.2727</td>\n",
       "      <td>0.80</td>\n",
       "      <td>0.0000</td>\n",
       "      <td>5</td>\n",
       "      <td>27</td>\n",
       "      <td>32</td>\n",
       "    </tr>\n",
       "    <tr>\n",
       "      <th>3</th>\n",
       "      <td>4</td>\n",
       "      <td>01-01-2011</td>\n",
       "      <td>1</td>\n",
       "      <td>0</td>\n",
       "      <td>1</td>\n",
       "      <td>3</td>\n",
       "      <td>False</td>\n",
       "      <td>6</td>\n",
       "      <td>1</td>\n",
       "      <td>0.24</td>\n",
       "      <td>3</td>\n",
       "      <td>4</td>\n",
       "      <td>0.2879</td>\n",
       "      <td>0.75</td>\n",
       "      <td>0.0000</td>\n",
       "      <td>3</td>\n",
       "      <td>10</td>\n",
       "      <td>13</td>\n",
       "    </tr>\n",
       "    <tr>\n",
       "      <th>4</th>\n",
       "      <td>5</td>\n",
       "      <td>01-01-2011</td>\n",
       "      <td>1</td>\n",
       "      <td>0</td>\n",
       "      <td>1</td>\n",
       "      <td>4</td>\n",
       "      <td>False</td>\n",
       "      <td>6</td>\n",
       "      <td>1</td>\n",
       "      <td>0.24</td>\n",
       "      <td>4</td>\n",
       "      <td>5</td>\n",
       "      <td>0.2879</td>\n",
       "      <td>0.75</td>\n",
       "      <td>0.0000</td>\n",
       "      <td>0</td>\n",
       "      <td>1</td>\n",
       "      <td>1</td>\n",
       "    </tr>\n",
       "    <tr>\n",
       "      <th>...</th>\n",
       "      <td>...</td>\n",
       "      <td>...</td>\n",
       "      <td>...</td>\n",
       "      <td>...</td>\n",
       "      <td>...</td>\n",
       "      <td>...</td>\n",
       "      <td>...</td>\n",
       "      <td>...</td>\n",
       "      <td>...</td>\n",
       "      <td>...</td>\n",
       "      <td>...</td>\n",
       "      <td>...</td>\n",
       "      <td>...</td>\n",
       "      <td>...</td>\n",
       "      <td>...</td>\n",
       "      <td>...</td>\n",
       "      <td>...</td>\n",
       "      <td>...</td>\n",
       "    </tr>\n",
       "    <tr>\n",
       "      <th>605</th>\n",
       "      <td>606</td>\n",
       "      <td>28-01-2011</td>\n",
       "      <td>1</td>\n",
       "      <td>0</td>\n",
       "      <td>1</td>\n",
       "      <td>11</td>\n",
       "      <td>False</td>\n",
       "      <td>5</td>\n",
       "      <td>3</td>\n",
       "      <td>0.18</td>\n",
       "      <td>605</td>\n",
       "      <td>606</td>\n",
       "      <td>0.2121</td>\n",
       "      <td>0.93</td>\n",
       "      <td>0.1045</td>\n",
       "      <td>0</td>\n",
       "      <td>30</td>\n",
       "      <td>30</td>\n",
       "    </tr>\n",
       "    <tr>\n",
       "      <th>606</th>\n",
       "      <td>607</td>\n",
       "      <td>28-01-2011</td>\n",
       "      <td>1</td>\n",
       "      <td>0</td>\n",
       "      <td>1</td>\n",
       "      <td>12</td>\n",
       "      <td>False</td>\n",
       "      <td>5</td>\n",
       "      <td>3</td>\n",
       "      <td>0.18</td>\n",
       "      <td>606</td>\n",
       "      <td>607</td>\n",
       "      <td>0.2121</td>\n",
       "      <td>0.93</td>\n",
       "      <td>0.1045</td>\n",
       "      <td>1</td>\n",
       "      <td>28</td>\n",
       "      <td>29</td>\n",
       "    </tr>\n",
       "    <tr>\n",
       "      <th>607</th>\n",
       "      <td>608</td>\n",
       "      <td>28-01-2011</td>\n",
       "      <td>1</td>\n",
       "      <td>0</td>\n",
       "      <td>1</td>\n",
       "      <td>13</td>\n",
       "      <td>False</td>\n",
       "      <td>5</td>\n",
       "      <td>3</td>\n",
       "      <td>0.18</td>\n",
       "      <td>607</td>\n",
       "      <td>608</td>\n",
       "      <td>0.2121</td>\n",
       "      <td>0.93</td>\n",
       "      <td>0.1045</td>\n",
       "      <td>0</td>\n",
       "      <td>31</td>\n",
       "      <td>31</td>\n",
       "    </tr>\n",
       "    <tr>\n",
       "      <th>608</th>\n",
       "      <td>609</td>\n",
       "      <td>28-01-2011</td>\n",
       "      <td>1</td>\n",
       "      <td>0</td>\n",
       "      <td>1</td>\n",
       "      <td>14</td>\n",
       "      <td>False</td>\n",
       "      <td>5</td>\n",
       "      <td>3</td>\n",
       "      <td>0.22</td>\n",
       "      <td>608</td>\n",
       "      <td>609</td>\n",
       "      <td>0.2727</td>\n",
       "      <td>0.80</td>\n",
       "      <td>0.0000</td>\n",
       "      <td>2</td>\n",
       "      <td>36</td>\n",
       "      <td>38</td>\n",
       "    </tr>\n",
       "    <tr>\n",
       "      <th>609</th>\n",
       "      <td>610</td>\n",
       "      <td>28-01-2011</td>\n",
       "      <td>1</td>\n",
       "      <td>0</td>\n",
       "      <td>1</td>\n",
       "      <td>15</td>\n",
       "      <td>False</td>\n",
       "      <td>5</td>\n",
       "      <td>2</td>\n",
       "      <td>0.20</td>\n",
       "      <td>609</td>\n",
       "      <td>610</td>\n",
       "      <td>0.2576</td>\n",
       "      <td>0.86</td>\n",
       "      <td>0.0000</td>\n",
       "      <td>1</td>\n",
       "      <td>40</td>\n",
       "      <td>41</td>\n",
       "    </tr>\n",
       "  </tbody>\n",
       "</table>\n",
       "<p>610 rows × 18 columns</p>\n",
       "</div>"
      ],
      "text/plain": [
       "     instant      dteday  season  yr  mnth  hr  holiday  weekday  weathersit  \\\n",
       "0          1  01-01-2011       1   0     1   0    False        6           1   \n",
       "1          2  01-01-2011       1   0     1   1    False        6           1   \n",
       "2          3  01-01-2011       1   0     1   2    False        6           1   \n",
       "3          4  01-01-2011       1   0     1   3    False        6           1   \n",
       "4          5  01-01-2011       1   0     1   4    False        6           1   \n",
       "..       ...         ...     ...  ..   ...  ..      ...      ...         ...   \n",
       "605      606  28-01-2011       1   0     1  11    False        5           3   \n",
       "606      607  28-01-2011       1   0     1  12    False        5           3   \n",
       "607      608  28-01-2011       1   0     1  13    False        5           3   \n",
       "608      609  28-01-2011       1   0     1  14    False        5           3   \n",
       "609      610  28-01-2011       1   0     1  15    False        5           2   \n",
       "\n",
       "     temp  Unnamed: 0  instant   atemp   hum  windspeed  casual  registered  \\\n",
       "0    0.24           0        1  0.2879  0.81     0.0000       3          13   \n",
       "1    0.22           1        2  0.2727  0.80     0.0000       8          32   \n",
       "2    0.22           2        3  0.2727  0.80     0.0000       5          27   \n",
       "3    0.24           3        4  0.2879  0.75     0.0000       3          10   \n",
       "4    0.24           4        5  0.2879  0.75     0.0000       0           1   \n",
       "..    ...         ...      ...     ...   ...        ...     ...         ...   \n",
       "605  0.18         605      606  0.2121  0.93     0.1045       0          30   \n",
       "606  0.18         606      607  0.2121  0.93     0.1045       1          28   \n",
       "607  0.18         607      608  0.2121  0.93     0.1045       0          31   \n",
       "608  0.22         608      609  0.2727  0.80     0.0000       2          36   \n",
       "609  0.20         609      610  0.2576  0.86     0.0000       1          40   \n",
       "\n",
       "     cnt  \n",
       "0     16  \n",
       "1     40  \n",
       "2     32  \n",
       "3     13  \n",
       "4      1  \n",
       "..   ...  \n",
       "605   30  \n",
       "606   29  \n",
       "607   31  \n",
       "608   38  \n",
       "609   41  \n",
       "\n",
       "[610 rows x 18 columns]"
      ]
     },
     "execution_count": 66,
     "metadata": {},
     "output_type": "execute_result"
    }
   ],
   "source": [
    "concatenated_data = pd.concat([df1, df2], axis=1)\n",
    "concatenated_data"
   ]
  },
  {
   "cell_type": "markdown",
   "id": "79051a82",
   "metadata": {},
   "source": [
    "# Identify unique values\n"
   ]
  },
  {
   "cell_type": "code",
   "execution_count": 57,
   "id": "14d29237",
   "metadata": {},
   "outputs": [
    {
     "data": {
      "text/plain": [
       "array([  1,   2,   3,   4,   5,   6,   7,   8,   9,  10,  11,  12,  13,\n",
       "        14,  15,  16,  17,  18,  19,  20,  21,  22,  23,  24,  25,  26,\n",
       "        27,  28,  29,  30,  31,  32,  33,  34,  35,  36,  37,  38,  39,\n",
       "        40,  41,  42,  43,  44,  45,  46,  47,  48,  49,  50,  51,  52,\n",
       "        53,  54,  55,  56,  57,  58,  59,  60,  61,  62,  63,  64,  65,\n",
       "        66,  67,  68,  69,  70,  71,  72,  73,  74,  75,  76,  77,  78,\n",
       "        79,  80,  81,  82,  83,  84,  85,  86,  87,  88,  89,  90,  91,\n",
       "        92,  93,  94,  95,  96,  97,  98,  99, 100, 101, 102, 103, 104,\n",
       "       105, 106, 107, 108, 109, 110, 111, 112, 113, 114, 115, 116, 117,\n",
       "       118, 119, 120, 121, 122, 123, 124, 125, 126, 127, 128, 129, 130,\n",
       "       131, 132, 133, 134, 135, 136, 137, 138, 139, 140, 141, 142, 143,\n",
       "       144, 145, 146, 147, 148, 149, 150, 151, 152, 153, 154, 155, 156,\n",
       "       157, 158, 159, 160, 161, 162, 163, 164, 165, 166, 167, 168, 169,\n",
       "       170, 171, 172, 173, 174, 175, 176, 177, 178, 179, 180, 181, 182,\n",
       "       183, 184, 185, 186, 187, 188, 189, 190, 191, 192, 193, 194, 195,\n",
       "       196, 197, 198, 199, 200, 201, 202, 203, 204, 205, 206, 207, 208,\n",
       "       209, 210, 211, 212, 213, 214, 215, 216, 217, 218, 219, 220, 221,\n",
       "       222, 223, 224, 225, 226, 227, 228, 229, 230, 231, 232, 233, 234,\n",
       "       235, 236, 237, 238, 239, 240, 241, 242, 243, 244, 245, 246, 247,\n",
       "       248, 249, 250, 251, 252, 253, 254, 255, 256, 257, 258, 259, 260,\n",
       "       261, 262, 263, 264, 265, 266, 267, 268, 269, 270, 271, 272, 273,\n",
       "       274, 275, 276, 277, 278, 279, 280, 281, 282, 283, 284, 285, 286,\n",
       "       287, 288, 289, 290, 291, 292, 293, 294, 295, 296, 297, 298, 299,\n",
       "       300, 301, 302, 303, 304, 305, 306, 307, 308, 309, 310, 311, 312,\n",
       "       313, 314, 315, 316, 317, 318, 319, 320, 321, 322, 323, 324, 325,\n",
       "       326, 327, 328, 329, 330, 331, 332, 333, 334, 335, 336, 337, 338,\n",
       "       339, 340, 341, 342, 343, 344, 345, 346, 347, 348, 349, 350, 351,\n",
       "       352, 353, 354, 355, 356, 357, 358, 359, 360, 361, 362, 363, 364,\n",
       "       365, 366, 367, 368, 369, 370, 371, 372, 373, 374, 375, 376, 377,\n",
       "       378, 379, 380, 381, 382, 383, 384, 385, 386, 387, 388, 389, 390,\n",
       "       391, 392, 393, 394, 395, 396, 397, 398, 399, 400, 401, 402, 403,\n",
       "       404, 405, 406, 407, 408, 409, 410, 411, 412, 413, 414, 415, 416,\n",
       "       417, 418, 419, 420, 421, 422, 423, 424, 425, 426, 427, 428, 429,\n",
       "       430, 431, 432, 433, 434, 435, 436, 437, 438, 439, 440, 441, 442,\n",
       "       443, 444, 445, 446, 447, 448, 449, 450, 451, 452, 453, 454, 455,\n",
       "       456, 457, 458, 459, 460, 461, 462, 463, 464, 465, 466, 467, 468,\n",
       "       469, 470, 471, 472, 473, 474, 475, 476, 477, 478, 479, 480, 481,\n",
       "       482, 483, 484, 485, 486, 487, 488, 489, 490, 491, 492, 493, 494,\n",
       "       495, 496, 497, 498, 499, 500, 501, 502, 503, 504, 505, 506, 507,\n",
       "       508, 509, 510, 511, 512, 513, 514, 515, 516, 517, 518, 519, 520,\n",
       "       521, 522, 523, 524, 525, 526, 527, 528, 529, 530, 531, 532, 533,\n",
       "       534, 535, 536, 537, 538, 539, 540, 541, 542, 543, 544, 545, 546,\n",
       "       547, 548, 549, 550, 551, 552, 553, 554, 555, 556, 557, 558, 559,\n",
       "       560, 561, 562, 563, 564, 565, 566, 567, 568, 569, 570, 571, 572,\n",
       "       573, 574, 575, 576, 577, 578, 579, 580, 581, 582, 583, 584, 585,\n",
       "       586, 587, 588, 589, 590, 591, 592, 593, 594, 595, 596, 597, 598,\n",
       "       599, 600, 601, 602, 603, 604, 605, 606, 607, 608, 609, 610],\n",
       "      dtype=int64)"
      ]
     },
     "execution_count": 57,
     "metadata": {},
     "output_type": "execute_result"
    }
   ],
   "source": [
    "unique_values = df['instant'].unique() #Finding Unique Values In Instant colm\n",
    "unique_values"
   ]
  },
  {
   "cell_type": "code",
   "execution_count": 59,
   "id": "f741ab17",
   "metadata": {},
   "outputs": [
    {
     "data": {
      "text/plain": [
       "array([0.2879, 0.2727, 0.2576,    nan, 0.3485, 0.3939, 0.3333, 0.4242,\n",
       "       0.4545, 0.4394, 0.4091, 0.2273, 0.2121, 0.197 , 0.1364, 0.1061,\n",
       "       0.1212, 0.1667, 0.1818, 0.2424, 0.1515, 0.3182, 0.0606, 0.0758,\n",
       "       0.0909, 0.303 , 0.0303, 0.0455, 0.    , 0.0152])"
      ]
     },
     "execution_count": 59,
     "metadata": {},
     "output_type": "execute_result"
    }
   ],
   "source": [
    "unique_values = df['atemp'].unique()   #Finding Unique Values In temprature colum\n",
    "unique_values"
   ]
  },
  {
   "cell_type": "code",
   "execution_count": 60,
   "id": "2e6f2eb1",
   "metadata": {},
   "outputs": [
    {
     "data": {
      "text/plain": [
       "array([0.    , 0.0896, 0.2537, 0.2836, 0.2985, 0.194 , 0.2239, 0.1343,\n",
       "       0.1642, 0.3284, 0.4478, 0.3582, 0.4179, 0.3881, 0.1045, 0.4925,\n",
       "       0.5522, 0.4627, 0.5224, 0.5821])"
      ]
     },
     "execution_count": 60,
     "metadata": {},
     "output_type": "execute_result"
    }
   ],
   "source": [
    "unique_values = df['windspeed'].unique()    #Finding Unique Values In windspeed colum\n",
    "unique_values"
   ]
  },
  {
   "cell_type": "code",
   "execution_count": 61,
   "id": "5bf21375",
   "metadata": {},
   "outputs": [
    {
     "data": {
      "text/plain": [
       "array([0.81, 0.8 , 0.75, 0.86, 0.76, 0.77, 0.72, 0.82, 0.88, 0.87, 0.94,\n",
       "       1.  , 0.71, 0.66, 0.57, 0.46, 0.42, 0.39, 0.44, 0.47, 0.5 , 0.43,\n",
       "       0.4 , 0.35, 0.3 , 0.32, 0.64, 0.69, 0.55, 0.59, 0.63, 0.68, 0.74,\n",
       "       0.51, 0.56, 0.52, 0.49, 0.48, 0.37, 0.33, 0.28, 0.38, 0.36, 0.93,\n",
       "       0.29, 0.53, 0.34, 0.54, 0.41, 0.45, 0.92, 0.62, 0.58, 0.61, 0.6 ,\n",
       "       0.65, 0.7 , 0.27, 0.21, 0.25, 0.26])"
      ]
     },
     "execution_count": 61,
     "metadata": {},
     "output_type": "execute_result"
    }
   ],
   "source": [
    "unique_values = df['hum'].unique()    #Finding Unique Values In humidity colum\n",
    "unique_values"
   ]
  },
  {
   "cell_type": "markdown",
   "id": "269f72c7",
   "metadata": {},
   "source": [
    "# Drop unnecessary columns"
   ]
  },
  {
   "cell_type": "code",
   "execution_count": 67,
   "id": "45015be0",
   "metadata": {},
   "outputs": [
    {
     "data": {
      "text/html": [
       "<div>\n",
       "<style scoped>\n",
       "    .dataframe tbody tr th:only-of-type {\n",
       "        vertical-align: middle;\n",
       "    }\n",
       "\n",
       "    .dataframe tbody tr th {\n",
       "        vertical-align: top;\n",
       "    }\n",
       "\n",
       "    .dataframe thead th {\n",
       "        text-align: right;\n",
       "    }\n",
       "</style>\n",
       "<table border=\"1\" class=\"dataframe\">\n",
       "  <thead>\n",
       "    <tr style=\"text-align: right;\">\n",
       "      <th></th>\n",
       "      <th>instant</th>\n",
       "      <th>dteday</th>\n",
       "      <th>season</th>\n",
       "      <th>mnth</th>\n",
       "      <th>hr</th>\n",
       "      <th>holiday</th>\n",
       "      <th>weekday</th>\n",
       "      <th>temp</th>\n",
       "    </tr>\n",
       "  </thead>\n",
       "  <tbody>\n",
       "    <tr>\n",
       "      <th>0</th>\n",
       "      <td>1</td>\n",
       "      <td>01-01-2011</td>\n",
       "      <td>1</td>\n",
       "      <td>1</td>\n",
       "      <td>0</td>\n",
       "      <td>False</td>\n",
       "      <td>6</td>\n",
       "      <td>0.24</td>\n",
       "    </tr>\n",
       "    <tr>\n",
       "      <th>1</th>\n",
       "      <td>2</td>\n",
       "      <td>01-01-2011</td>\n",
       "      <td>1</td>\n",
       "      <td>1</td>\n",
       "      <td>1</td>\n",
       "      <td>False</td>\n",
       "      <td>6</td>\n",
       "      <td>0.22</td>\n",
       "    </tr>\n",
       "    <tr>\n",
       "      <th>2</th>\n",
       "      <td>3</td>\n",
       "      <td>01-01-2011</td>\n",
       "      <td>1</td>\n",
       "      <td>1</td>\n",
       "      <td>2</td>\n",
       "      <td>False</td>\n",
       "      <td>6</td>\n",
       "      <td>0.22</td>\n",
       "    </tr>\n",
       "    <tr>\n",
       "      <th>3</th>\n",
       "      <td>4</td>\n",
       "      <td>01-01-2011</td>\n",
       "      <td>1</td>\n",
       "      <td>1</td>\n",
       "      <td>3</td>\n",
       "      <td>False</td>\n",
       "      <td>6</td>\n",
       "      <td>0.24</td>\n",
       "    </tr>\n",
       "    <tr>\n",
       "      <th>4</th>\n",
       "      <td>5</td>\n",
       "      <td>01-01-2011</td>\n",
       "      <td>1</td>\n",
       "      <td>1</td>\n",
       "      <td>4</td>\n",
       "      <td>False</td>\n",
       "      <td>6</td>\n",
       "      <td>0.24</td>\n",
       "    </tr>\n",
       "    <tr>\n",
       "      <th>...</th>\n",
       "      <td>...</td>\n",
       "      <td>...</td>\n",
       "      <td>...</td>\n",
       "      <td>...</td>\n",
       "      <td>...</td>\n",
       "      <td>...</td>\n",
       "      <td>...</td>\n",
       "      <td>...</td>\n",
       "    </tr>\n",
       "    <tr>\n",
       "      <th>605</th>\n",
       "      <td>606</td>\n",
       "      <td>28-01-2011</td>\n",
       "      <td>1</td>\n",
       "      <td>1</td>\n",
       "      <td>11</td>\n",
       "      <td>False</td>\n",
       "      <td>5</td>\n",
       "      <td>0.18</td>\n",
       "    </tr>\n",
       "    <tr>\n",
       "      <th>606</th>\n",
       "      <td>607</td>\n",
       "      <td>28-01-2011</td>\n",
       "      <td>1</td>\n",
       "      <td>1</td>\n",
       "      <td>12</td>\n",
       "      <td>False</td>\n",
       "      <td>5</td>\n",
       "      <td>0.18</td>\n",
       "    </tr>\n",
       "    <tr>\n",
       "      <th>607</th>\n",
       "      <td>608</td>\n",
       "      <td>28-01-2011</td>\n",
       "      <td>1</td>\n",
       "      <td>1</td>\n",
       "      <td>13</td>\n",
       "      <td>False</td>\n",
       "      <td>5</td>\n",
       "      <td>0.18</td>\n",
       "    </tr>\n",
       "    <tr>\n",
       "      <th>608</th>\n",
       "      <td>609</td>\n",
       "      <td>28-01-2011</td>\n",
       "      <td>1</td>\n",
       "      <td>1</td>\n",
       "      <td>14</td>\n",
       "      <td>False</td>\n",
       "      <td>5</td>\n",
       "      <td>0.22</td>\n",
       "    </tr>\n",
       "    <tr>\n",
       "      <th>609</th>\n",
       "      <td>610</td>\n",
       "      <td>28-01-2011</td>\n",
       "      <td>1</td>\n",
       "      <td>1</td>\n",
       "      <td>15</td>\n",
       "      <td>False</td>\n",
       "      <td>5</td>\n",
       "      <td>0.20</td>\n",
       "    </tr>\n",
       "  </tbody>\n",
       "</table>\n",
       "<p>610 rows × 8 columns</p>\n",
       "</div>"
      ],
      "text/plain": [
       "     instant      dteday  season  mnth  hr  holiday  weekday  temp\n",
       "0          1  01-01-2011       1     1   0    False        6  0.24\n",
       "1          2  01-01-2011       1     1   1    False        6  0.22\n",
       "2          3  01-01-2011       1     1   2    False        6  0.22\n",
       "3          4  01-01-2011       1     1   3    False        6  0.24\n",
       "4          5  01-01-2011       1     1   4    False        6  0.24\n",
       "..       ...         ...     ...   ...  ..      ...      ...   ...\n",
       "605      606  28-01-2011       1     1  11    False        5  0.18\n",
       "606      607  28-01-2011       1     1  12    False        5  0.18\n",
       "607      608  28-01-2011       1     1  13    False        5  0.18\n",
       "608      609  28-01-2011       1     1  14    False        5  0.22\n",
       "609      610  28-01-2011       1     1  15    False        5  0.20\n",
       "\n",
       "[610 rows x 8 columns]"
      ]
     },
     "execution_count": 67,
     "metadata": {},
     "output_type": "execute_result"
    }
   ],
   "source": [
    "cleaned_data = df1.drop(['yr', 'weathersit'], axis=1)  #From data1 removed year and weathersit colum\n",
    "cleaned_data"
   ]
  },
  {
   "cell_type": "code",
   "execution_count": 73,
   "id": "ab3d8220",
   "metadata": {},
   "outputs": [
    {
     "data": {
      "text/html": [
       "<div>\n",
       "<style scoped>\n",
       "    .dataframe tbody tr th:only-of-type {\n",
       "        vertical-align: middle;\n",
       "    }\n",
       "\n",
       "    .dataframe tbody tr th {\n",
       "        vertical-align: top;\n",
       "    }\n",
       "\n",
       "    .dataframe thead th {\n",
       "        text-align: right;\n",
       "    }\n",
       "</style>\n",
       "<table border=\"1\" class=\"dataframe\">\n",
       "  <thead>\n",
       "    <tr style=\"text-align: right;\">\n",
       "      <th></th>\n",
       "      <th>Unnamed: 0</th>\n",
       "      <th>atemp</th>\n",
       "      <th>hum</th>\n",
       "      <th>windspeed</th>\n",
       "      <th>registered</th>\n",
       "      <th>cnt</th>\n",
       "    </tr>\n",
       "  </thead>\n",
       "  <tbody>\n",
       "    <tr>\n",
       "      <th>0</th>\n",
       "      <td>0</td>\n",
       "      <td>0.2879</td>\n",
       "      <td>0.81</td>\n",
       "      <td>0.0000</td>\n",
       "      <td>13</td>\n",
       "      <td>16</td>\n",
       "    </tr>\n",
       "    <tr>\n",
       "      <th>1</th>\n",
       "      <td>1</td>\n",
       "      <td>0.2727</td>\n",
       "      <td>0.80</td>\n",
       "      <td>0.0000</td>\n",
       "      <td>32</td>\n",
       "      <td>40</td>\n",
       "    </tr>\n",
       "    <tr>\n",
       "      <th>2</th>\n",
       "      <td>2</td>\n",
       "      <td>0.2727</td>\n",
       "      <td>0.80</td>\n",
       "      <td>0.0000</td>\n",
       "      <td>27</td>\n",
       "      <td>32</td>\n",
       "    </tr>\n",
       "    <tr>\n",
       "      <th>3</th>\n",
       "      <td>3</td>\n",
       "      <td>0.2879</td>\n",
       "      <td>0.75</td>\n",
       "      <td>0.0000</td>\n",
       "      <td>10</td>\n",
       "      <td>13</td>\n",
       "    </tr>\n",
       "    <tr>\n",
       "      <th>4</th>\n",
       "      <td>4</td>\n",
       "      <td>0.2879</td>\n",
       "      <td>0.75</td>\n",
       "      <td>0.0000</td>\n",
       "      <td>1</td>\n",
       "      <td>1</td>\n",
       "    </tr>\n",
       "    <tr>\n",
       "      <th>...</th>\n",
       "      <td>...</td>\n",
       "      <td>...</td>\n",
       "      <td>...</td>\n",
       "      <td>...</td>\n",
       "      <td>...</td>\n",
       "      <td>...</td>\n",
       "    </tr>\n",
       "    <tr>\n",
       "      <th>605</th>\n",
       "      <td>605</td>\n",
       "      <td>0.2121</td>\n",
       "      <td>0.93</td>\n",
       "      <td>0.1045</td>\n",
       "      <td>30</td>\n",
       "      <td>30</td>\n",
       "    </tr>\n",
       "    <tr>\n",
       "      <th>606</th>\n",
       "      <td>606</td>\n",
       "      <td>0.2121</td>\n",
       "      <td>0.93</td>\n",
       "      <td>0.1045</td>\n",
       "      <td>28</td>\n",
       "      <td>29</td>\n",
       "    </tr>\n",
       "    <tr>\n",
       "      <th>607</th>\n",
       "      <td>607</td>\n",
       "      <td>0.2121</td>\n",
       "      <td>0.93</td>\n",
       "      <td>0.1045</td>\n",
       "      <td>31</td>\n",
       "      <td>31</td>\n",
       "    </tr>\n",
       "    <tr>\n",
       "      <th>608</th>\n",
       "      <td>608</td>\n",
       "      <td>0.2727</td>\n",
       "      <td>0.80</td>\n",
       "      <td>0.0000</td>\n",
       "      <td>36</td>\n",
       "      <td>38</td>\n",
       "    </tr>\n",
       "    <tr>\n",
       "      <th>609</th>\n",
       "      <td>609</td>\n",
       "      <td>0.2576</td>\n",
       "      <td>0.86</td>\n",
       "      <td>0.0000</td>\n",
       "      <td>40</td>\n",
       "      <td>41</td>\n",
       "    </tr>\n",
       "  </tbody>\n",
       "</table>\n",
       "<p>610 rows × 6 columns</p>\n",
       "</div>"
      ],
      "text/plain": [
       "     Unnamed: 0   atemp   hum  windspeed  registered  cnt\n",
       "0             0  0.2879  0.81     0.0000          13   16\n",
       "1             1  0.2727  0.80     0.0000          32   40\n",
       "2             2  0.2727  0.80     0.0000          27   32\n",
       "3             3  0.2879  0.75     0.0000          10   13\n",
       "4             4  0.2879  0.75     0.0000           1    1\n",
       "..          ...     ...   ...        ...         ...  ...\n",
       "605         605  0.2121  0.93     0.1045          30   30\n",
       "606         606  0.2121  0.93     0.1045          28   29\n",
       "607         607  0.2121  0.93     0.1045          31   31\n",
       "608         608  0.2727  0.80     0.0000          36   38\n",
       "609         609  0.2576  0.86     0.0000          40   41\n",
       "\n",
       "[610 rows x 6 columns]"
      ]
     },
     "execution_count": 73,
     "metadata": {},
     "output_type": "execute_result"
    }
   ],
   "source": [
    "cleaned_data = df2.drop(['instant','casual'], axis=1)  #From data2 removed instant and casual colum \n",
    "cleaned_data"
   ]
  },
  {
   "cell_type": "markdown",
   "id": "829a4387",
   "metadata": {},
   "source": [
    "# Check the dimension of the dataset\n"
   ]
  },
  {
   "cell_type": "code",
   "execution_count": 75,
   "id": "296e344e",
   "metadata": {},
   "outputs": [
    {
     "data": {
      "text/plain": [
       "(610, 10)"
      ]
     },
     "execution_count": 75,
     "metadata": {},
     "output_type": "execute_result"
    }
   ],
   "source": [
    "data1 = df1.shape\n",
    "data1"
   ]
  },
  {
   "cell_type": "code",
   "execution_count": 79,
   "id": "d26a3e80",
   "metadata": {},
   "outputs": [
    {
     "data": {
      "text/plain": [
       "(610, 8)"
      ]
     },
     "execution_count": 79,
     "metadata": {},
     "output_type": "execute_result"
    }
   ],
   "source": [
    "data2 = df2.shape\n",
    "data2"
   ]
  },
  {
   "cell_type": "markdown",
   "id": "c79c3179",
   "metadata": {},
   "source": [
    "# Check the datatype of the dataset\n"
   ]
  },
  {
   "cell_type": "code",
   "execution_count": 86,
   "id": "9e2e660e",
   "metadata": {},
   "outputs": [
    {
     "data": {
      "text/plain": [
       "instant         int64\n",
       "dteday         object\n",
       "season          int64\n",
       "yr              int64\n",
       "mnth            int64\n",
       "hr              int64\n",
       "holiday          bool\n",
       "weekday         int64\n",
       "weathersit      int64\n",
       "temp          float64\n",
       "dtype: object"
      ]
     },
     "execution_count": 86,
     "metadata": {},
     "output_type": "execute_result"
    }
   ],
   "source": [
    "data1 = df1.dtypes    #Checking the data type of dataset1\n",
    "data1"
   ]
  },
  {
   "cell_type": "code",
   "execution_count": 87,
   "id": "f509c17b",
   "metadata": {},
   "outputs": [
    {
     "data": {
      "text/plain": [
       "Unnamed: 0      int64\n",
       "instant         int64\n",
       "atemp         float64\n",
       "hum           float64\n",
       "windspeed     float64\n",
       "casual          int64\n",
       "registered      int64\n",
       "cnt             int64\n",
       "dtype: object"
      ]
     },
     "execution_count": 87,
     "metadata": {},
     "output_type": "execute_result"
    }
   ],
   "source": [
    "data2 = df2.dtypes    #Checking the data type of dataset2\n",
    "data2"
   ]
  },
  {
   "cell_type": "markdown",
   "id": "270c0397",
   "metadata": {},
   "source": [
    "# Check datatype summary\n"
   ]
  },
  {
   "cell_type": "code",
   "execution_count": 89,
   "id": "738197ff",
   "metadata": {},
   "outputs": [
    {
     "name": "stdout",
     "output_type": "stream",
     "text": [
      "<class 'pandas.core.frame.DataFrame'>\n",
      "RangeIndex: 610 entries, 0 to 609\n",
      "Data columns (total 10 columns):\n",
      " #   Column      Non-Null Count  Dtype  \n",
      "---  ------      --------------  -----  \n",
      " 0   instant     610 non-null    int64  \n",
      " 1   dteday      610 non-null    object \n",
      " 2   season      610 non-null    int64  \n",
      " 3   yr          610 non-null    int64  \n",
      " 4   mnth        610 non-null    int64  \n",
      " 5   hr          610 non-null    int64  \n",
      " 6   holiday     610 non-null    bool   \n",
      " 7   weekday     610 non-null    int64  \n",
      " 8   weathersit  610 non-null    int64  \n",
      " 9   temp        610 non-null    float64\n",
      "dtypes: bool(1), float64(1), int64(7), object(1)\n",
      "memory usage: 43.6+ KB\n"
     ]
    }
   ],
   "source": [
    "data1 = df1.info()  #Finding data1 information \n",
    "data1"
   ]
  },
  {
   "cell_type": "code",
   "execution_count": 90,
   "id": "4b2d66ba",
   "metadata": {},
   "outputs": [
    {
     "name": "stdout",
     "output_type": "stream",
     "text": [
      "<class 'pandas.core.frame.DataFrame'>\n",
      "RangeIndex: 610 entries, 0 to 609\n",
      "Data columns (total 8 columns):\n",
      " #   Column      Non-Null Count  Dtype  \n",
      "---  ------      --------------  -----  \n",
      " 0   Unnamed: 0  610 non-null    int64  \n",
      " 1   instant     610 non-null    int64  \n",
      " 2   atemp       599 non-null    float64\n",
      " 3   hum         610 non-null    float64\n",
      " 4   windspeed   610 non-null    float64\n",
      " 5   casual      610 non-null    int64  \n",
      " 6   registered  610 non-null    int64  \n",
      " 7   cnt         610 non-null    int64  \n",
      "dtypes: float64(3), int64(5)\n",
      "memory usage: 38.2 KB\n"
     ]
    }
   ],
   "source": [
    "data2 = df2.info()  #Finding data2 information\n",
    "data2"
   ]
  },
  {
   "cell_type": "markdown",
   "id": "31799140",
   "metadata": {},
   "source": [
    "# work on central Tendency"
   ]
  },
  {
   "cell_type": "markdown",
   "id": "c6e4c4b3",
   "metadata": {},
   "source": [
    "***Finding central tendency of dataset 1***"
   ]
  },
  {
   "cell_type": "markdown",
   "id": "ff231cd5",
   "metadata": {},
   "source": [
    "***MEAN***"
   ]
  },
  {
   "cell_type": "code",
   "execution_count": 95,
   "id": "28552048",
   "metadata": {},
   "outputs": [
    {
     "data": {
      "text/plain": [
       "0.19688524590163933"
      ]
     },
     "execution_count": 95,
     "metadata": {},
     "output_type": "execute_result"
    }
   ],
   "source": [
    "data1 = df1['temp'].mean()\n",
    "data1"
   ]
  },
  {
   "cell_type": "code",
   "execution_count": 97,
   "id": "d1bfeb0e",
   "metadata": {},
   "outputs": [
    {
     "data": {
      "text/plain": [
       "305.5"
      ]
     },
     "execution_count": 97,
     "metadata": {},
     "output_type": "execute_result"
    }
   ],
   "source": [
    "data1 = df1['instant'].mean()\n",
    "data1"
   ]
  },
  {
   "cell_type": "markdown",
   "id": "3b4a9ed3",
   "metadata": {},
   "source": [
    "***MEDIAN***"
   ]
  },
  {
   "cell_type": "code",
   "execution_count": 98,
   "id": "93335291",
   "metadata": {},
   "outputs": [
    {
     "data": {
      "text/plain": [
       "0.2"
      ]
     },
     "execution_count": 98,
     "metadata": {},
     "output_type": "execute_result"
    }
   ],
   "source": [
    "data1 = df1['temp'].median()\n",
    "data1"
   ]
  },
  {
   "cell_type": "code",
   "execution_count": 99,
   "id": "f81c0ac5",
   "metadata": {},
   "outputs": [
    {
     "data": {
      "text/plain": [
       "305.5"
      ]
     },
     "execution_count": 99,
     "metadata": {},
     "output_type": "execute_result"
    }
   ],
   "source": [
    "data1 = df1['instant'].median()\n",
    "data1"
   ]
  },
  {
   "cell_type": "markdown",
   "id": "3a130267",
   "metadata": {},
   "source": [
    "***MODE***"
   ]
  },
  {
   "cell_type": "code",
   "execution_count": 100,
   "id": "c9c6ba6e",
   "metadata": {},
   "outputs": [
    {
     "data": {
      "text/plain": [
       "0    0.2\n",
       "Name: temp, dtype: float64"
      ]
     },
     "execution_count": 100,
     "metadata": {},
     "output_type": "execute_result"
    }
   ],
   "source": [
    "data1 = df1['temp'].mode()\n",
    "data1"
   ]
  },
  {
   "cell_type": "code",
   "execution_count": 102,
   "id": "34446925",
   "metadata": {},
   "outputs": [
    {
     "data": {
      "text/plain": [
       "0        1\n",
       "1        2\n",
       "2        3\n",
       "3        4\n",
       "4        5\n",
       "      ... \n",
       "605    606\n",
       "606    607\n",
       "607    608\n",
       "608    609\n",
       "609    610\n",
       "Name: instant, Length: 610, dtype: int64"
      ]
     },
     "execution_count": 102,
     "metadata": {},
     "output_type": "execute_result"
    }
   ],
   "source": [
    "data1 = df1['instant'].mode()\n",
    "data1"
   ]
  },
  {
   "cell_type": "markdown",
   "id": "83851d2c",
   "metadata": {},
   "source": [
    "***QUARTILES***"
   ]
  },
  {
   "cell_type": "code",
   "execution_count": 35,
   "id": "d71db35c",
   "metadata": {},
   "outputs": [
    {
     "data": {
      "text/plain": [
       "0.16"
      ]
     },
     "execution_count": 35,
     "metadata": {},
     "output_type": "execute_result"
    }
   ],
   "source": [
    "q1 =df1['temp'].quantile(.25)\n",
    "q1"
   ]
  },
  {
   "cell_type": "code",
   "execution_count": 36,
   "id": "e53eacef",
   "metadata": {},
   "outputs": [
    {
     "data": {
      "text/plain": [
       "457.75"
      ]
     },
     "execution_count": 36,
     "metadata": {},
     "output_type": "execute_result"
    }
   ],
   "source": [
    "q2 =df1['instant'].quantile(.75)\n",
    "q2"
   ]
  },
  {
   "cell_type": "code",
   "execution_count": 38,
   "id": "25798f88",
   "metadata": {},
   "outputs": [
    {
     "data": {
      "text/plain": [
       "0.12"
      ]
     },
     "execution_count": 38,
     "metadata": {},
     "output_type": "execute_result"
    }
   ],
   "source": [
    "q3 =df1['temp'].quantile(.125)\n",
    "q3"
   ]
  },
  {
   "cell_type": "markdown",
   "id": "ebfab514",
   "metadata": {},
   "source": [
    "***SKEWNESS***\n"
   ]
  },
  {
   "cell_type": "code",
   "execution_count": 17,
   "id": "1201051b",
   "metadata": {},
   "outputs": [
    {
     "name": "stdout",
     "output_type": "stream",
     "text": [
      "Skewness for the entire DataFrame:\n",
      "instant       0.000000\n",
      "dteday             NaN\n",
      "season        0.000000\n",
      "yr            0.000000\n",
      "mnth          0.000000\n",
      "hr           -0.072059\n",
      "holiday       4.750637\n",
      "weekday       0.026403\n",
      "weathersit    1.050244\n",
      "temp          0.665087\n",
      "dtype: float64\n"
     ]
    }
   ],
   "source": [
    "skewness_df1 = df1.skew()\n",
    "print(\"Skewness for the entire DataFrame:\")\n",
    "print(skewness_df1)"
   ]
  },
  {
   "cell_type": "markdown",
   "id": "2b3696c9",
   "metadata": {},
   "source": [
    "***CORRELATION***"
   ]
  },
  {
   "cell_type": "code",
   "execution_count": 18,
   "id": "3a8ccd9e",
   "metadata": {},
   "outputs": [
    {
     "name": "stdout",
     "output_type": "stream",
     "text": [
      "Correlation matrix for the entire DataFrame:\n",
      "             instant  dteday  season  yr  mnth        hr   holiday   weekday  \\\n",
      "instant     1.000000     NaN     NaN NaN   NaN  0.025355  0.090792  0.015448   \n",
      "dteday           NaN     NaN     NaN NaN   NaN       NaN       NaN       NaN   \n",
      "season           NaN     NaN     NaN NaN   NaN       NaN       NaN       NaN   \n",
      "yr               NaN     NaN     NaN NaN   NaN       NaN       NaN       NaN   \n",
      "mnth             NaN     NaN     NaN NaN   NaN       NaN       NaN       NaN   \n",
      "hr          0.025355     NaN     NaN NaN   NaN  1.000000 -0.008722 -0.021792   \n",
      "holiday     0.090792     NaN     NaN NaN   NaN -0.008722  1.000000 -0.194864   \n",
      "weekday     0.015448     NaN     NaN NaN   NaN -0.021792 -0.194864  1.000000   \n",
      "weathersit  0.162506     NaN     NaN NaN   NaN -0.056370  0.217058  0.065414   \n",
      "temp       -0.314224     NaN     NaN NaN   NaN  0.165148 -0.052444  0.040457   \n",
      "\n",
      "            weathersit      temp  \n",
      "instant       0.162506 -0.314224  \n",
      "dteday             NaN       NaN  \n",
      "season             NaN       NaN  \n",
      "yr                 NaN       NaN  \n",
      "mnth               NaN       NaN  \n",
      "hr           -0.056370  0.165148  \n",
      "holiday       0.217058 -0.052444  \n",
      "weekday       0.065414  0.040457  \n",
      "weathersit    1.000000  0.224919  \n",
      "temp          0.224919  1.000000  \n"
     ]
    }
   ],
   "source": [
    "correlation_matrix = df1.corr()\n",
    "print(\"Correlation matrix for the entire DataFrame:\")\n",
    "print(correlation_matrix)"
   ]
  },
  {
   "cell_type": "markdown",
   "id": "f2cd8f9f",
   "metadata": {},
   "source": [
    "***Finding central tendency of dataset 2***"
   ]
  },
  {
   "cell_type": "markdown",
   "id": "304251ae",
   "metadata": {},
   "source": [
    "***MEAN***"
   ]
  },
  {
   "cell_type": "code",
   "execution_count": 103,
   "id": "c1b2bc94",
   "metadata": {},
   "outputs": [
    {
     "data": {
      "text/plain": [
       "0.19993489148580967"
      ]
     },
     "execution_count": 103,
     "metadata": {},
     "output_type": "execute_result"
    }
   ],
   "source": [
    "data2 = df2['atemp'].mean()\n",
    "data2"
   ]
  },
  {
   "cell_type": "code",
   "execution_count": 104,
   "id": "ca9f492f",
   "metadata": {},
   "outputs": [
    {
     "data": {
      "text/plain": [
       "0.5624754098360656"
      ]
     },
     "execution_count": 104,
     "metadata": {},
     "output_type": "execute_result"
    }
   ],
   "source": [
    "data2 = df2['hum'].mean()\n",
    "data2"
   ]
  },
  {
   "cell_type": "code",
   "execution_count": 105,
   "id": "f11f7237",
   "metadata": {},
   "outputs": [
    {
     "data": {
      "text/plain": [
       "0.20485098360655737"
      ]
     },
     "execution_count": 105,
     "metadata": {},
     "output_type": "execute_result"
    }
   ],
   "source": [
    "data2 = df2['windspeed'].mean()\n",
    "data2"
   ]
  },
  {
   "cell_type": "code",
   "execution_count": 106,
   "id": "5a55d729",
   "metadata": {},
   "outputs": [
    {
     "data": {
      "text/plain": [
       "51.06885245901639"
      ]
     },
     "execution_count": 106,
     "metadata": {},
     "output_type": "execute_result"
    }
   ],
   "source": [
    "data2 = df2['registered'].mean()\n",
    "data2"
   ]
  },
  {
   "cell_type": "markdown",
   "id": "a73bcf04",
   "metadata": {},
   "source": [
    "***MEDIAN***"
   ]
  },
  {
   "cell_type": "code",
   "execution_count": 107,
   "id": "2122d5d3",
   "metadata": {},
   "outputs": [
    {
     "data": {
      "text/plain": [
       "0.197"
      ]
     },
     "execution_count": 107,
     "metadata": {},
     "output_type": "execute_result"
    }
   ],
   "source": [
    "data2 = df2['atemp'].median()\n",
    "data2"
   ]
  },
  {
   "cell_type": "code",
   "execution_count": 109,
   "id": "d8836a17",
   "metadata": {},
   "outputs": [
    {
     "data": {
      "text/plain": [
       "0.52"
      ]
     },
     "execution_count": 109,
     "metadata": {},
     "output_type": "execute_result"
    }
   ],
   "source": [
    "data2 = df2['hum'].median()\n",
    "data2"
   ]
  },
  {
   "cell_type": "code",
   "execution_count": 110,
   "id": "be50add1",
   "metadata": {},
   "outputs": [
    {
     "data": {
      "text/plain": [
       "0.194"
      ]
     },
     "execution_count": 110,
     "metadata": {},
     "output_type": "execute_result"
    }
   ],
   "source": [
    "data2 = df2['windspeed'].median()\n",
    "data2"
   ]
  },
  {
   "cell_type": "code",
   "execution_count": 112,
   "id": "d1bb735d",
   "metadata": {},
   "outputs": [
    {
     "data": {
      "text/plain": [
       "43.0"
      ]
     },
     "execution_count": 112,
     "metadata": {},
     "output_type": "execute_result"
    }
   ],
   "source": [
    "data2 = df2['registered'].median()\n",
    "data2"
   ]
  },
  {
   "cell_type": "markdown",
   "id": "c7890a66",
   "metadata": {},
   "source": [
    "***MODE***"
   ]
  },
  {
   "cell_type": "code",
   "execution_count": 113,
   "id": "3e8c2772",
   "metadata": {},
   "outputs": [
    {
     "data": {
      "text/plain": [
       "0    0.197\n",
       "Name: atemp, dtype: float64"
      ]
     },
     "execution_count": 113,
     "metadata": {},
     "output_type": "execute_result"
    }
   ],
   "source": [
    "data2 = df2['atemp'].mode()\n",
    "data2"
   ]
  },
  {
   "cell_type": "code",
   "execution_count": 114,
   "id": "2721dcd5",
   "metadata": {},
   "outputs": [
    {
     "data": {
      "text/plain": [
       "0    0.47\n",
       "Name: hum, dtype: float64"
      ]
     },
     "execution_count": 114,
     "metadata": {},
     "output_type": "execute_result"
    }
   ],
   "source": [
    "data2 = df2['hum'].mode()\n",
    "data2"
   ]
  },
  {
   "cell_type": "code",
   "execution_count": 115,
   "id": "422dbd44",
   "metadata": {},
   "outputs": [
    {
     "data": {
      "text/plain": [
       "0    0.1642\n",
       "Name: windspeed, dtype: float64"
      ]
     },
     "execution_count": 115,
     "metadata": {},
     "output_type": "execute_result"
    }
   ],
   "source": [
    "data2 = df2['windspeed'].mode()\n",
    "data2"
   ]
  },
  {
   "cell_type": "code",
   "execution_count": 116,
   "id": "f05d5a0f",
   "metadata": {},
   "outputs": [
    {
     "data": {
      "text/plain": [
       "0    1\n",
       "Name: registered, dtype: int64"
      ]
     },
     "execution_count": 116,
     "metadata": {},
     "output_type": "execute_result"
    }
   ],
   "source": [
    "data2 = df2['registered'].mode()\n",
    "data2"
   ]
  },
  {
   "cell_type": "markdown",
   "id": "d1f6467f",
   "metadata": {},
   "source": [
    "***QAURTILE***"
   ]
  },
  {
   "cell_type": "code",
   "execution_count": 42,
   "id": "fee5a5fe",
   "metadata": {},
   "outputs": [
    {
     "data": {
      "text/plain": [
       "14.0"
      ]
     },
     "execution_count": 42,
     "metadata": {},
     "output_type": "execute_result"
    }
   ],
   "source": [
    "q1 =df2['registered'].quantile(.25)\n",
    "q1"
   ]
  },
  {
   "cell_type": "code",
   "execution_count": 43,
   "id": "ef676faf",
   "metadata": {},
   "outputs": [
    {
     "data": {
      "text/plain": [
       "0.2424"
      ]
     },
     "execution_count": 43,
     "metadata": {},
     "output_type": "execute_result"
    }
   ],
   "source": [
    "q2 =df2['atemp'].quantile(.75)\n",
    "q2"
   ]
  },
  {
   "cell_type": "code",
   "execution_count": 44,
   "id": "3f88e398",
   "metadata": {},
   "outputs": [
    {
     "data": {
      "text/plain": [
       "4.0"
      ]
     },
     "execution_count": 44,
     "metadata": {},
     "output_type": "execute_result"
    }
   ],
   "source": [
    "q3 =df2['cnt'].quantile(.125)\n",
    "q3"
   ]
  },
  {
   "cell_type": "markdown",
   "id": "ccb12347",
   "metadata": {},
   "source": [
    "***SKEWNESS***"
   ]
  },
  {
   "cell_type": "code",
   "execution_count": 19,
   "id": "7f9eb2d5",
   "metadata": {},
   "outputs": [
    {
     "name": "stdout",
     "output_type": "stream",
     "text": [
      "Skewness for the entire DataFrame:\n",
      "Unnamed: 0    0.000000\n",
      "instant       0.000000\n",
      "atemp         0.555599\n",
      "hum           0.609553\n",
      "windspeed     0.339029\n",
      "casual        2.712869\n",
      "registered    1.428875\n",
      "cnt           1.243563\n",
      "dtype: float64\n"
     ]
    }
   ],
   "source": [
    "skewness_df2 = df2.skew()\n",
    "print(\"Skewness for the entire DataFrame:\")\n",
    "print(skewness_df2)"
   ]
  },
  {
   "cell_type": "markdown",
   "id": "4ec14a4c",
   "metadata": {},
   "source": [
    "***CORRELATION***"
   ]
  },
  {
   "cell_type": "code",
   "execution_count": 20,
   "id": "ea08caaa",
   "metadata": {},
   "outputs": [
    {
     "name": "stdout",
     "output_type": "stream",
     "text": [
      "Correlation matrix for the entire DataFrame:\n",
      "            Unnamed: 0   instant     atemp       hum  windspeed    casual  \\\n",
      "Unnamed: 0    1.000000  1.000000 -0.277607  0.045119  -0.029262 -0.088926   \n",
      "instant       1.000000  1.000000 -0.277607  0.045119  -0.029262 -0.088926   \n",
      "atemp        -0.277607 -0.277607  1.000000  0.302530  -0.246309  0.391066   \n",
      "hum           0.045119  0.045119  0.302530  1.000000  -0.307205 -0.204634   \n",
      "windspeed    -0.029262 -0.029262 -0.246309 -0.307205   1.000000  0.120109   \n",
      "casual       -0.088926 -0.088926  0.391066 -0.204634   0.120109  1.000000   \n",
      "registered    0.047670  0.047670  0.145876 -0.228278   0.038115  0.304894   \n",
      "cnt           0.034055  0.034055  0.189119 -0.243876   0.051733  0.418852   \n",
      "\n",
      "            registered       cnt  \n",
      "Unnamed: 0    0.047670  0.034055  \n",
      "instant       0.047670  0.034055  \n",
      "atemp         0.145876  0.189119  \n",
      "hum          -0.228278 -0.243876  \n",
      "windspeed     0.038115  0.051733  \n",
      "casual        0.304894  0.418852  \n",
      "registered    1.000000  0.992524  \n",
      "cnt           0.992524  1.000000  \n"
     ]
    }
   ],
   "source": [
    "correlation_matrix = df2.corr()\n",
    "print(\"Correlation matrix for the entire DataFrame:\")\n",
    "print(correlation_matrix)"
   ]
  },
  {
   "cell_type": "markdown",
   "id": "5472e705",
   "metadata": {},
   "source": [
    "# Working on Data 3"
   ]
  },
  {
   "cell_type": "code",
   "execution_count": 23,
   "id": "485ef80d",
   "metadata": {},
   "outputs": [
    {
     "data": {
      "text/html": [
       "<div>\n",
       "<style scoped>\n",
       "    .dataframe tbody tr th:only-of-type {\n",
       "        vertical-align: middle;\n",
       "    }\n",
       "\n",
       "    .dataframe tbody tr th {\n",
       "        vertical-align: top;\n",
       "    }\n",
       "\n",
       "    .dataframe thead th {\n",
       "        text-align: right;\n",
       "    }\n",
       "</style>\n",
       "<table border=\"1\" class=\"dataframe\">\n",
       "  <thead>\n",
       "    <tr style=\"text-align: right;\">\n",
       "      <th></th>\n",
       "      <th>instant</th>\n",
       "      <th>dteday</th>\n",
       "      <th>season</th>\n",
       "      <th>yr</th>\n",
       "      <th>mnth</th>\n",
       "      <th>hr</th>\n",
       "      <th>holiday</th>\n",
       "      <th>weekday</th>\n",
       "      <th>weathersit</th>\n",
       "      <th>temp</th>\n",
       "      <th>atemp</th>\n",
       "      <th>hum</th>\n",
       "      <th>windspeed</th>\n",
       "      <th>casual</th>\n",
       "      <th>registered</th>\n",
       "      <th>cnt</th>\n",
       "    </tr>\n",
       "  </thead>\n",
       "  <tbody>\n",
       "    <tr>\n",
       "      <th>0</th>\n",
       "      <td>620</td>\n",
       "      <td>29-01-2011</td>\n",
       "      <td>1</td>\n",
       "      <td>0</td>\n",
       "      <td>1</td>\n",
       "      <td>1</td>\n",
       "      <td>False</td>\n",
       "      <td>6</td>\n",
       "      <td>1</td>\n",
       "      <td>0.22</td>\n",
       "      <td>0.2273</td>\n",
       "      <td>0.64</td>\n",
       "      <td>0.1940</td>\n",
       "      <td>0</td>\n",
       "      <td>20</td>\n",
       "      <td>20</td>\n",
       "    </tr>\n",
       "    <tr>\n",
       "      <th>1</th>\n",
       "      <td>621</td>\n",
       "      <td>29-01-2011</td>\n",
       "      <td>1</td>\n",
       "      <td>0</td>\n",
       "      <td>1</td>\n",
       "      <td>2</td>\n",
       "      <td>False</td>\n",
       "      <td>6</td>\n",
       "      <td>1</td>\n",
       "      <td>0.22</td>\n",
       "      <td>0.2273</td>\n",
       "      <td>0.64</td>\n",
       "      <td>0.1642</td>\n",
       "      <td>0</td>\n",
       "      <td>15</td>\n",
       "      <td>15</td>\n",
       "    </tr>\n",
       "    <tr>\n",
       "      <th>2</th>\n",
       "      <td>622</td>\n",
       "      <td>29-01-2011</td>\n",
       "      <td>1</td>\n",
       "      <td>0</td>\n",
       "      <td>1</td>\n",
       "      <td>3</td>\n",
       "      <td>False</td>\n",
       "      <td>6</td>\n",
       "      <td>1</td>\n",
       "      <td>0.20</td>\n",
       "      <td>0.2121</td>\n",
       "      <td>0.64</td>\n",
       "      <td>0.1343</td>\n",
       "      <td>3</td>\n",
       "      <td>5</td>\n",
       "      <td>8</td>\n",
       "    </tr>\n",
       "    <tr>\n",
       "      <th>3</th>\n",
       "      <td>623</td>\n",
       "      <td>29-01-2011</td>\n",
       "      <td>1</td>\n",
       "      <td>0</td>\n",
       "      <td>1</td>\n",
       "      <td>4</td>\n",
       "      <td>False</td>\n",
       "      <td>6</td>\n",
       "      <td>1</td>\n",
       "      <td>0.16</td>\n",
       "      <td>0.1818</td>\n",
       "      <td>0.69</td>\n",
       "      <td>0.1045</td>\n",
       "      <td>1</td>\n",
       "      <td>2</td>\n",
       "      <td>3</td>\n",
       "    </tr>\n",
       "    <tr>\n",
       "      <th>4</th>\n",
       "      <td>624</td>\n",
       "      <td>29-01-2011</td>\n",
       "      <td>1</td>\n",
       "      <td>0</td>\n",
       "      <td>1</td>\n",
       "      <td>6</td>\n",
       "      <td>False</td>\n",
       "      <td>6</td>\n",
       "      <td>1</td>\n",
       "      <td>0.16</td>\n",
       "      <td>0.1818</td>\n",
       "      <td>0.64</td>\n",
       "      <td>0.1343</td>\n",
       "      <td>0</td>\n",
       "      <td>2</td>\n",
       "      <td>2</td>\n",
       "    </tr>\n",
       "    <tr>\n",
       "      <th>...</th>\n",
       "      <td>...</td>\n",
       "      <td>...</td>\n",
       "      <td>...</td>\n",
       "      <td>...</td>\n",
       "      <td>...</td>\n",
       "      <td>...</td>\n",
       "      <td>...</td>\n",
       "      <td>...</td>\n",
       "      <td>...</td>\n",
       "      <td>...</td>\n",
       "      <td>...</td>\n",
       "      <td>...</td>\n",
       "      <td>...</td>\n",
       "      <td>...</td>\n",
       "      <td>...</td>\n",
       "      <td>...</td>\n",
       "    </tr>\n",
       "    <tr>\n",
       "      <th>385</th>\n",
       "      <td>615</td>\n",
       "      <td>28-01-2011</td>\n",
       "      <td>1</td>\n",
       "      <td>0</td>\n",
       "      <td>1</td>\n",
       "      <td>20</td>\n",
       "      <td>False</td>\n",
       "      <td>5</td>\n",
       "      <td>2</td>\n",
       "      <td>0.24</td>\n",
       "      <td>0.2273</td>\n",
       "      <td>0.70</td>\n",
       "      <td>0.1940</td>\n",
       "      <td>1</td>\n",
       "      <td>61</td>\n",
       "      <td>62</td>\n",
       "    </tr>\n",
       "    <tr>\n",
       "      <th>386</th>\n",
       "      <td>616</td>\n",
       "      <td>28-01-2011</td>\n",
       "      <td>1</td>\n",
       "      <td>0</td>\n",
       "      <td>1</td>\n",
       "      <td>21</td>\n",
       "      <td>False</td>\n",
       "      <td>5</td>\n",
       "      <td>2</td>\n",
       "      <td>0.22</td>\n",
       "      <td>0.2273</td>\n",
       "      <td>0.75</td>\n",
       "      <td>0.1343</td>\n",
       "      <td>1</td>\n",
       "      <td>57</td>\n",
       "      <td>58</td>\n",
       "    </tr>\n",
       "    <tr>\n",
       "      <th>387</th>\n",
       "      <td>617</td>\n",
       "      <td>28-01-2011</td>\n",
       "      <td>1</td>\n",
       "      <td>0</td>\n",
       "      <td>1</td>\n",
       "      <td>22</td>\n",
       "      <td>False</td>\n",
       "      <td>5</td>\n",
       "      <td>1</td>\n",
       "      <td>0.24</td>\n",
       "      <td>0.2121</td>\n",
       "      <td>0.65</td>\n",
       "      <td>0.3582</td>\n",
       "      <td>0</td>\n",
       "      <td>26</td>\n",
       "      <td>26</td>\n",
       "    </tr>\n",
       "    <tr>\n",
       "      <th>388</th>\n",
       "      <td>618</td>\n",
       "      <td>28-01-2011</td>\n",
       "      <td>1</td>\n",
       "      <td>0</td>\n",
       "      <td>1</td>\n",
       "      <td>23</td>\n",
       "      <td>False</td>\n",
       "      <td>5</td>\n",
       "      <td>1</td>\n",
       "      <td>0.24</td>\n",
       "      <td>0.2273</td>\n",
       "      <td>0.60</td>\n",
       "      <td>0.2239</td>\n",
       "      <td>1</td>\n",
       "      <td>22</td>\n",
       "      <td>23</td>\n",
       "    </tr>\n",
       "    <tr>\n",
       "      <th>389</th>\n",
       "      <td>619</td>\n",
       "      <td>29-01-2011</td>\n",
       "      <td>1</td>\n",
       "      <td>0</td>\n",
       "      <td>1</td>\n",
       "      <td>0</td>\n",
       "      <td>False</td>\n",
       "      <td>6</td>\n",
       "      <td>1</td>\n",
       "      <td>0.22</td>\n",
       "      <td>0.1970</td>\n",
       "      <td>0.64</td>\n",
       "      <td>0.3582</td>\n",
       "      <td>2</td>\n",
       "      <td>26</td>\n",
       "      <td>28</td>\n",
       "    </tr>\n",
       "  </tbody>\n",
       "</table>\n",
       "<p>390 rows × 16 columns</p>\n",
       "</div>"
      ],
      "text/plain": [
       "     instant      dteday  season  yr  mnth  hr  holiday  weekday  weathersit  \\\n",
       "0        620  29-01-2011       1   0     1   1    False        6           1   \n",
       "1        621  29-01-2011       1   0     1   2    False        6           1   \n",
       "2        622  29-01-2011       1   0     1   3    False        6           1   \n",
       "3        623  29-01-2011       1   0     1   4    False        6           1   \n",
       "4        624  29-01-2011       1   0     1   6    False        6           1   \n",
       "..       ...         ...     ...  ..   ...  ..      ...      ...         ...   \n",
       "385      615  28-01-2011       1   0     1  20    False        5           2   \n",
       "386      616  28-01-2011       1   0     1  21    False        5           2   \n",
       "387      617  28-01-2011       1   0     1  22    False        5           1   \n",
       "388      618  28-01-2011       1   0     1  23    False        5           1   \n",
       "389      619  29-01-2011       1   0     1   0    False        6           1   \n",
       "\n",
       "     temp   atemp   hum  windspeed  casual  registered  cnt  \n",
       "0    0.22  0.2273  0.64     0.1940       0          20   20  \n",
       "1    0.22  0.2273  0.64     0.1642       0          15   15  \n",
       "2    0.20  0.2121  0.64     0.1343       3           5    8  \n",
       "3    0.16  0.1818  0.69     0.1045       1           2    3  \n",
       "4    0.16  0.1818  0.64     0.1343       0           2    2  \n",
       "..    ...     ...   ...        ...     ...         ...  ...  \n",
       "385  0.24  0.2273  0.70     0.1940       1          61   62  \n",
       "386  0.22  0.2273  0.75     0.1343       1          57   58  \n",
       "387  0.24  0.2121  0.65     0.3582       0          26   26  \n",
       "388  0.24  0.2273  0.60     0.2239       1          22   23  \n",
       "389  0.22  0.1970  0.64     0.3582       2          26   28  \n",
       "\n",
       "[390 rows x 16 columns]"
      ]
     },
     "execution_count": 23,
     "metadata": {},
     "output_type": "execute_result"
    }
   ],
   "source": [
    "df3 = pd.read_csv('data3.csv')\n",
    "df3"
   ]
  },
  {
   "cell_type": "markdown",
   "id": "107e94ef",
   "metadata": {},
   "source": [
    "# merge datasets "
   ]
  },
  {
   "cell_type": "code",
   "execution_count": 10,
   "id": "bb8d3369",
   "metadata": {},
   "outputs": [
    {
     "data": {
      "text/html": [
       "<div>\n",
       "<style scoped>\n",
       "    .dataframe tbody tr th:only-of-type {\n",
       "        vertical-align: middle;\n",
       "    }\n",
       "\n",
       "    .dataframe tbody tr th {\n",
       "        vertical-align: top;\n",
       "    }\n",
       "\n",
       "    .dataframe thead th {\n",
       "        text-align: right;\n",
       "    }\n",
       "</style>\n",
       "<table border=\"1\" class=\"dataframe\">\n",
       "  <thead>\n",
       "    <tr style=\"text-align: right;\">\n",
       "      <th></th>\n",
       "      <th>Unnamed: 0</th>\n",
       "      <th>instant_x</th>\n",
       "      <th>atemp_x</th>\n",
       "      <th>hum</th>\n",
       "      <th>windspeed_x</th>\n",
       "      <th>casual_x</th>\n",
       "      <th>registered_x</th>\n",
       "      <th>cnt_x</th>\n",
       "      <th>instant_y</th>\n",
       "      <th>dteday</th>\n",
       "      <th>...</th>\n",
       "      <th>hr</th>\n",
       "      <th>holiday</th>\n",
       "      <th>weekday</th>\n",
       "      <th>weathersit</th>\n",
       "      <th>temp</th>\n",
       "      <th>atemp_y</th>\n",
       "      <th>windspeed_y</th>\n",
       "      <th>casual_y</th>\n",
       "      <th>registered_y</th>\n",
       "      <th>cnt_y</th>\n",
       "    </tr>\n",
       "  </thead>\n",
       "  <tbody>\n",
       "    <tr>\n",
       "      <th>0</th>\n",
       "      <td>0</td>\n",
       "      <td>1</td>\n",
       "      <td>0.2879</td>\n",
       "      <td>0.81</td>\n",
       "      <td>0.0000</td>\n",
       "      <td>3</td>\n",
       "      <td>13</td>\n",
       "      <td>16</td>\n",
       "      <td>706</td>\n",
       "      <td>01-02-2011</td>\n",
       "      <td>...</td>\n",
       "      <td>18</td>\n",
       "      <td>False</td>\n",
       "      <td>2</td>\n",
       "      <td>2</td>\n",
       "      <td>0.24</td>\n",
       "      <td>0.2576</td>\n",
       "      <td>0.1045</td>\n",
       "      <td>3</td>\n",
       "      <td>165</td>\n",
       "      <td>168</td>\n",
       "    </tr>\n",
       "    <tr>\n",
       "      <th>1</th>\n",
       "      <td>0</td>\n",
       "      <td>1</td>\n",
       "      <td>0.2879</td>\n",
       "      <td>0.81</td>\n",
       "      <td>0.0000</td>\n",
       "      <td>3</td>\n",
       "      <td>13</td>\n",
       "      <td>16</td>\n",
       "      <td>707</td>\n",
       "      <td>01-02-2011</td>\n",
       "      <td>...</td>\n",
       "      <td>19</td>\n",
       "      <td>False</td>\n",
       "      <td>2</td>\n",
       "      <td>2</td>\n",
       "      <td>0.24</td>\n",
       "      <td>0.2424</td>\n",
       "      <td>0.1343</td>\n",
       "      <td>3</td>\n",
       "      <td>105</td>\n",
       "      <td>108</td>\n",
       "    </tr>\n",
       "    <tr>\n",
       "      <th>2</th>\n",
       "      <td>0</td>\n",
       "      <td>1</td>\n",
       "      <td>0.2879</td>\n",
       "      <td>0.81</td>\n",
       "      <td>0.0000</td>\n",
       "      <td>3</td>\n",
       "      <td>13</td>\n",
       "      <td>16</td>\n",
       "      <td>852</td>\n",
       "      <td>07-02-2011</td>\n",
       "      <td>...</td>\n",
       "      <td>22</td>\n",
       "      <td>False</td>\n",
       "      <td>1</td>\n",
       "      <td>1</td>\n",
       "      <td>0.28</td>\n",
       "      <td>0.3030</td>\n",
       "      <td>0.0896</td>\n",
       "      <td>3</td>\n",
       "      <td>34</td>\n",
       "      <td>37</td>\n",
       "    </tr>\n",
       "    <tr>\n",
       "      <th>3</th>\n",
       "      <td>0</td>\n",
       "      <td>1</td>\n",
       "      <td>0.2879</td>\n",
       "      <td>0.81</td>\n",
       "      <td>0.0000</td>\n",
       "      <td>3</td>\n",
       "      <td>13</td>\n",
       "      <td>16</td>\n",
       "      <td>853</td>\n",
       "      <td>07-02-2011</td>\n",
       "      <td>...</td>\n",
       "      <td>23</td>\n",
       "      <td>False</td>\n",
       "      <td>1</td>\n",
       "      <td>2</td>\n",
       "      <td>0.30</td>\n",
       "      <td>0.3333</td>\n",
       "      <td>0.0000</td>\n",
       "      <td>6</td>\n",
       "      <td>19</td>\n",
       "      <td>25</td>\n",
       "    </tr>\n",
       "    <tr>\n",
       "      <th>4</th>\n",
       "      <td>0</td>\n",
       "      <td>1</td>\n",
       "      <td>0.2879</td>\n",
       "      <td>0.81</td>\n",
       "      <td>0.0000</td>\n",
       "      <td>3</td>\n",
       "      <td>13</td>\n",
       "      <td>16</td>\n",
       "      <td>859</td>\n",
       "      <td>08-02-2011</td>\n",
       "      <td>...</td>\n",
       "      <td>5</td>\n",
       "      <td>False</td>\n",
       "      <td>2</td>\n",
       "      <td>1</td>\n",
       "      <td>0.26</td>\n",
       "      <td>0.2273</td>\n",
       "      <td>0.3284</td>\n",
       "      <td>0</td>\n",
       "      <td>2</td>\n",
       "      <td>2</td>\n",
       "    </tr>\n",
       "    <tr>\n",
       "      <th>...</th>\n",
       "      <td>...</td>\n",
       "      <td>...</td>\n",
       "      <td>...</td>\n",
       "      <td>...</td>\n",
       "      <td>...</td>\n",
       "      <td>...</td>\n",
       "      <td>...</td>\n",
       "      <td>...</td>\n",
       "      <td>...</td>\n",
       "      <td>...</td>\n",
       "      <td>...</td>\n",
       "      <td>...</td>\n",
       "      <td>...</td>\n",
       "      <td>...</td>\n",
       "      <td>...</td>\n",
       "      <td>...</td>\n",
       "      <td>...</td>\n",
       "      <td>...</td>\n",
       "      <td>...</td>\n",
       "      <td>...</td>\n",
       "      <td>...</td>\n",
       "    </tr>\n",
       "    <tr>\n",
       "      <th>5619</th>\n",
       "      <td>471</td>\n",
       "      <td>472</td>\n",
       "      <td>0.1364</td>\n",
       "      <td>0.26</td>\n",
       "      <td>0.3582</td>\n",
       "      <td>0</td>\n",
       "      <td>97</td>\n",
       "      <td>97</td>\n",
       "      <td>936</td>\n",
       "      <td>11-02-2011</td>\n",
       "      <td>...</td>\n",
       "      <td>14</td>\n",
       "      <td>False</td>\n",
       "      <td>5</td>\n",
       "      <td>1</td>\n",
       "      <td>0.30</td>\n",
       "      <td>0.2879</td>\n",
       "      <td>0.2537</td>\n",
       "      <td>17</td>\n",
       "      <td>67</td>\n",
       "      <td>84</td>\n",
       "    </tr>\n",
       "    <tr>\n",
       "      <th>5620</th>\n",
       "      <td>517</td>\n",
       "      <td>518</td>\n",
       "      <td>0.1364</td>\n",
       "      <td>0.26</td>\n",
       "      <td>0.3284</td>\n",
       "      <td>9</td>\n",
       "      <td>56</td>\n",
       "      <td>65</td>\n",
       "      <td>917</td>\n",
       "      <td>10-02-2011</td>\n",
       "      <td>...</td>\n",
       "      <td>17</td>\n",
       "      <td>False</td>\n",
       "      <td>4</td>\n",
       "      <td>1</td>\n",
       "      <td>0.18</td>\n",
       "      <td>0.1818</td>\n",
       "      <td>0.1940</td>\n",
       "      <td>6</td>\n",
       "      <td>159</td>\n",
       "      <td>165</td>\n",
       "    </tr>\n",
       "    <tr>\n",
       "      <th>5621</th>\n",
       "      <td>517</td>\n",
       "      <td>518</td>\n",
       "      <td>0.1364</td>\n",
       "      <td>0.26</td>\n",
       "      <td>0.3284</td>\n",
       "      <td>9</td>\n",
       "      <td>56</td>\n",
       "      <td>65</td>\n",
       "      <td>936</td>\n",
       "      <td>11-02-2011</td>\n",
       "      <td>...</td>\n",
       "      <td>14</td>\n",
       "      <td>False</td>\n",
       "      <td>5</td>\n",
       "      <td>1</td>\n",
       "      <td>0.30</td>\n",
       "      <td>0.2879</td>\n",
       "      <td>0.2537</td>\n",
       "      <td>17</td>\n",
       "      <td>67</td>\n",
       "      <td>84</td>\n",
       "    </tr>\n",
       "    <tr>\n",
       "      <th>5622</th>\n",
       "      <td>518</td>\n",
       "      <td>519</td>\n",
       "      <td>0.1061</td>\n",
       "      <td>0.26</td>\n",
       "      <td>0.3881</td>\n",
       "      <td>5</td>\n",
       "      <td>50</td>\n",
       "      <td>55</td>\n",
       "      <td>917</td>\n",
       "      <td>10-02-2011</td>\n",
       "      <td>...</td>\n",
       "      <td>17</td>\n",
       "      <td>False</td>\n",
       "      <td>4</td>\n",
       "      <td>1</td>\n",
       "      <td>0.18</td>\n",
       "      <td>0.1818</td>\n",
       "      <td>0.1940</td>\n",
       "      <td>6</td>\n",
       "      <td>159</td>\n",
       "      <td>165</td>\n",
       "    </tr>\n",
       "    <tr>\n",
       "      <th>5623</th>\n",
       "      <td>518</td>\n",
       "      <td>519</td>\n",
       "      <td>0.1061</td>\n",
       "      <td>0.26</td>\n",
       "      <td>0.3881</td>\n",
       "      <td>5</td>\n",
       "      <td>50</td>\n",
       "      <td>55</td>\n",
       "      <td>936</td>\n",
       "      <td>11-02-2011</td>\n",
       "      <td>...</td>\n",
       "      <td>14</td>\n",
       "      <td>False</td>\n",
       "      <td>5</td>\n",
       "      <td>1</td>\n",
       "      <td>0.30</td>\n",
       "      <td>0.2879</td>\n",
       "      <td>0.2537</td>\n",
       "      <td>17</td>\n",
       "      <td>67</td>\n",
       "      <td>84</td>\n",
       "    </tr>\n",
       "  </tbody>\n",
       "</table>\n",
       "<p>5624 rows × 23 columns</p>\n",
       "</div>"
      ],
      "text/plain": [
       "      Unnamed: 0  instant_x  atemp_x   hum  windspeed_x  casual_x  \\\n",
       "0              0          1   0.2879  0.81       0.0000         3   \n",
       "1              0          1   0.2879  0.81       0.0000         3   \n",
       "2              0          1   0.2879  0.81       0.0000         3   \n",
       "3              0          1   0.2879  0.81       0.0000         3   \n",
       "4              0          1   0.2879  0.81       0.0000         3   \n",
       "...          ...        ...      ...   ...          ...       ...   \n",
       "5619         471        472   0.1364  0.26       0.3582         0   \n",
       "5620         517        518   0.1364  0.26       0.3284         9   \n",
       "5621         517        518   0.1364  0.26       0.3284         9   \n",
       "5622         518        519   0.1061  0.26       0.3881         5   \n",
       "5623         518        519   0.1061  0.26       0.3881         5   \n",
       "\n",
       "      registered_x  cnt_x  instant_y      dteday  ...  hr  holiday  weekday  \\\n",
       "0               13     16        706  01-02-2011  ...  18    False        2   \n",
       "1               13     16        707  01-02-2011  ...  19    False        2   \n",
       "2               13     16        852  07-02-2011  ...  22    False        1   \n",
       "3               13     16        853  07-02-2011  ...  23    False        1   \n",
       "4               13     16        859  08-02-2011  ...   5    False        2   \n",
       "...            ...    ...        ...         ...  ...  ..      ...      ...   \n",
       "5619            97     97        936  11-02-2011  ...  14    False        5   \n",
       "5620            56     65        917  10-02-2011  ...  17    False        4   \n",
       "5621            56     65        936  11-02-2011  ...  14    False        5   \n",
       "5622            50     55        917  10-02-2011  ...  17    False        4   \n",
       "5623            50     55        936  11-02-2011  ...  14    False        5   \n",
       "\n",
       "      weathersit  temp  atemp_y  windspeed_y  casual_y  registered_y  cnt_y  \n",
       "0              2  0.24   0.2576       0.1045         3           165    168  \n",
       "1              2  0.24   0.2424       0.1343         3           105    108  \n",
       "2              1  0.28   0.3030       0.0896         3            34     37  \n",
       "3              2  0.30   0.3333       0.0000         6            19     25  \n",
       "4              1  0.26   0.2273       0.3284         0             2      2  \n",
       "...          ...   ...      ...          ...       ...           ...    ...  \n",
       "5619           1  0.30   0.2879       0.2537        17            67     84  \n",
       "5620           1  0.18   0.1818       0.1940         6           159    165  \n",
       "5621           1  0.30   0.2879       0.2537        17            67     84  \n",
       "5622           1  0.18   0.1818       0.1940         6           159    165  \n",
       "5623           1  0.30   0.2879       0.2537        17            67     84  \n",
       "\n",
       "[5624 rows x 23 columns]"
      ]
     },
     "execution_count": 10,
     "metadata": {},
     "output_type": "execute_result"
    }
   ],
   "source": [
    "merged_data = pd.merge(df2,df3 , on='hum' , how = 'inner') # Mergeing hum(humidity) from dataset 2 into dataset 3 \n",
    "merged_data"
   ]
  },
  {
   "cell_type": "markdown",
   "id": "a36fb46c",
   "metadata": {},
   "source": [
    "# Concatenated data"
   ]
  },
  {
   "cell_type": "code",
   "execution_count": 11,
   "id": "dc65f826",
   "metadata": {},
   "outputs": [
    {
     "name": "stderr",
     "output_type": "stream",
     "text": [
      "C:\\Users\\HP\\anaconda3\\lib\\site-packages\\IPython\\lib\\pretty.py:778: FutureWarning: In a future version, object-dtype columns with all-bool values will not be included in reductions with bool_only=True. Explicitly cast to bool dtype instead.\n",
      "  output = repr(obj)\n",
      "C:\\Users\\HP\\anaconda3\\lib\\site-packages\\IPython\\core\\formatters.py:342: FutureWarning: In a future version, object-dtype columns with all-bool values will not be included in reductions with bool_only=True. Explicitly cast to bool dtype instead.\n",
      "  return method()\n"
     ]
    },
    {
     "data": {
      "text/html": [
       "<div>\n",
       "<style scoped>\n",
       "    .dataframe tbody tr th:only-of-type {\n",
       "        vertical-align: middle;\n",
       "    }\n",
       "\n",
       "    .dataframe tbody tr th {\n",
       "        vertical-align: top;\n",
       "    }\n",
       "\n",
       "    .dataframe thead th {\n",
       "        text-align: right;\n",
       "    }\n",
       "</style>\n",
       "<table border=\"1\" class=\"dataframe\">\n",
       "  <thead>\n",
       "    <tr style=\"text-align: right;\">\n",
       "      <th></th>\n",
       "      <th>Unnamed: 0</th>\n",
       "      <th>instant</th>\n",
       "      <th>atemp</th>\n",
       "      <th>hum</th>\n",
       "      <th>windspeed</th>\n",
       "      <th>casual</th>\n",
       "      <th>registered</th>\n",
       "      <th>cnt</th>\n",
       "      <th>instant</th>\n",
       "      <th>dteday</th>\n",
       "      <th>...</th>\n",
       "      <th>holiday</th>\n",
       "      <th>weekday</th>\n",
       "      <th>weathersit</th>\n",
       "      <th>temp</th>\n",
       "      <th>atemp</th>\n",
       "      <th>hum</th>\n",
       "      <th>windspeed</th>\n",
       "      <th>casual</th>\n",
       "      <th>registered</th>\n",
       "      <th>cnt</th>\n",
       "    </tr>\n",
       "  </thead>\n",
       "  <tbody>\n",
       "    <tr>\n",
       "      <th>0</th>\n",
       "      <td>0</td>\n",
       "      <td>1</td>\n",
       "      <td>0.2879</td>\n",
       "      <td>0.81</td>\n",
       "      <td>0.0000</td>\n",
       "      <td>3</td>\n",
       "      <td>13</td>\n",
       "      <td>16</td>\n",
       "      <td>620.0</td>\n",
       "      <td>29-01-2011</td>\n",
       "      <td>...</td>\n",
       "      <td>False</td>\n",
       "      <td>6.0</td>\n",
       "      <td>1.0</td>\n",
       "      <td>0.22</td>\n",
       "      <td>0.2273</td>\n",
       "      <td>0.64</td>\n",
       "      <td>0.1940</td>\n",
       "      <td>0.0</td>\n",
       "      <td>20.0</td>\n",
       "      <td>20.0</td>\n",
       "    </tr>\n",
       "    <tr>\n",
       "      <th>1</th>\n",
       "      <td>1</td>\n",
       "      <td>2</td>\n",
       "      <td>0.2727</td>\n",
       "      <td>0.80</td>\n",
       "      <td>0.0000</td>\n",
       "      <td>8</td>\n",
       "      <td>32</td>\n",
       "      <td>40</td>\n",
       "      <td>621.0</td>\n",
       "      <td>29-01-2011</td>\n",
       "      <td>...</td>\n",
       "      <td>False</td>\n",
       "      <td>6.0</td>\n",
       "      <td>1.0</td>\n",
       "      <td>0.22</td>\n",
       "      <td>0.2273</td>\n",
       "      <td>0.64</td>\n",
       "      <td>0.1642</td>\n",
       "      <td>0.0</td>\n",
       "      <td>15.0</td>\n",
       "      <td>15.0</td>\n",
       "    </tr>\n",
       "    <tr>\n",
       "      <th>2</th>\n",
       "      <td>2</td>\n",
       "      <td>3</td>\n",
       "      <td>0.2727</td>\n",
       "      <td>0.80</td>\n",
       "      <td>0.0000</td>\n",
       "      <td>5</td>\n",
       "      <td>27</td>\n",
       "      <td>32</td>\n",
       "      <td>622.0</td>\n",
       "      <td>29-01-2011</td>\n",
       "      <td>...</td>\n",
       "      <td>False</td>\n",
       "      <td>6.0</td>\n",
       "      <td>1.0</td>\n",
       "      <td>0.20</td>\n",
       "      <td>0.2121</td>\n",
       "      <td>0.64</td>\n",
       "      <td>0.1343</td>\n",
       "      <td>3.0</td>\n",
       "      <td>5.0</td>\n",
       "      <td>8.0</td>\n",
       "    </tr>\n",
       "    <tr>\n",
       "      <th>3</th>\n",
       "      <td>3</td>\n",
       "      <td>4</td>\n",
       "      <td>0.2879</td>\n",
       "      <td>0.75</td>\n",
       "      <td>0.0000</td>\n",
       "      <td>3</td>\n",
       "      <td>10</td>\n",
       "      <td>13</td>\n",
       "      <td>623.0</td>\n",
       "      <td>29-01-2011</td>\n",
       "      <td>...</td>\n",
       "      <td>False</td>\n",
       "      <td>6.0</td>\n",
       "      <td>1.0</td>\n",
       "      <td>0.16</td>\n",
       "      <td>0.1818</td>\n",
       "      <td>0.69</td>\n",
       "      <td>0.1045</td>\n",
       "      <td>1.0</td>\n",
       "      <td>2.0</td>\n",
       "      <td>3.0</td>\n",
       "    </tr>\n",
       "    <tr>\n",
       "      <th>4</th>\n",
       "      <td>4</td>\n",
       "      <td>5</td>\n",
       "      <td>0.2879</td>\n",
       "      <td>0.75</td>\n",
       "      <td>0.0000</td>\n",
       "      <td>0</td>\n",
       "      <td>1</td>\n",
       "      <td>1</td>\n",
       "      <td>624.0</td>\n",
       "      <td>29-01-2011</td>\n",
       "      <td>...</td>\n",
       "      <td>False</td>\n",
       "      <td>6.0</td>\n",
       "      <td>1.0</td>\n",
       "      <td>0.16</td>\n",
       "      <td>0.1818</td>\n",
       "      <td>0.64</td>\n",
       "      <td>0.1343</td>\n",
       "      <td>0.0</td>\n",
       "      <td>2.0</td>\n",
       "      <td>2.0</td>\n",
       "    </tr>\n",
       "    <tr>\n",
       "      <th>...</th>\n",
       "      <td>...</td>\n",
       "      <td>...</td>\n",
       "      <td>...</td>\n",
       "      <td>...</td>\n",
       "      <td>...</td>\n",
       "      <td>...</td>\n",
       "      <td>...</td>\n",
       "      <td>...</td>\n",
       "      <td>...</td>\n",
       "      <td>...</td>\n",
       "      <td>...</td>\n",
       "      <td>...</td>\n",
       "      <td>...</td>\n",
       "      <td>...</td>\n",
       "      <td>...</td>\n",
       "      <td>...</td>\n",
       "      <td>...</td>\n",
       "      <td>...</td>\n",
       "      <td>...</td>\n",
       "      <td>...</td>\n",
       "      <td>...</td>\n",
       "    </tr>\n",
       "    <tr>\n",
       "      <th>605</th>\n",
       "      <td>605</td>\n",
       "      <td>606</td>\n",
       "      <td>0.2121</td>\n",
       "      <td>0.93</td>\n",
       "      <td>0.1045</td>\n",
       "      <td>0</td>\n",
       "      <td>30</td>\n",
       "      <td>30</td>\n",
       "      <td>NaN</td>\n",
       "      <td>NaN</td>\n",
       "      <td>...</td>\n",
       "      <td>NaN</td>\n",
       "      <td>NaN</td>\n",
       "      <td>NaN</td>\n",
       "      <td>NaN</td>\n",
       "      <td>NaN</td>\n",
       "      <td>NaN</td>\n",
       "      <td>NaN</td>\n",
       "      <td>NaN</td>\n",
       "      <td>NaN</td>\n",
       "      <td>NaN</td>\n",
       "    </tr>\n",
       "    <tr>\n",
       "      <th>606</th>\n",
       "      <td>606</td>\n",
       "      <td>607</td>\n",
       "      <td>0.2121</td>\n",
       "      <td>0.93</td>\n",
       "      <td>0.1045</td>\n",
       "      <td>1</td>\n",
       "      <td>28</td>\n",
       "      <td>29</td>\n",
       "      <td>NaN</td>\n",
       "      <td>NaN</td>\n",
       "      <td>...</td>\n",
       "      <td>NaN</td>\n",
       "      <td>NaN</td>\n",
       "      <td>NaN</td>\n",
       "      <td>NaN</td>\n",
       "      <td>NaN</td>\n",
       "      <td>NaN</td>\n",
       "      <td>NaN</td>\n",
       "      <td>NaN</td>\n",
       "      <td>NaN</td>\n",
       "      <td>NaN</td>\n",
       "    </tr>\n",
       "    <tr>\n",
       "      <th>607</th>\n",
       "      <td>607</td>\n",
       "      <td>608</td>\n",
       "      <td>0.2121</td>\n",
       "      <td>0.93</td>\n",
       "      <td>0.1045</td>\n",
       "      <td>0</td>\n",
       "      <td>31</td>\n",
       "      <td>31</td>\n",
       "      <td>NaN</td>\n",
       "      <td>NaN</td>\n",
       "      <td>...</td>\n",
       "      <td>NaN</td>\n",
       "      <td>NaN</td>\n",
       "      <td>NaN</td>\n",
       "      <td>NaN</td>\n",
       "      <td>NaN</td>\n",
       "      <td>NaN</td>\n",
       "      <td>NaN</td>\n",
       "      <td>NaN</td>\n",
       "      <td>NaN</td>\n",
       "      <td>NaN</td>\n",
       "    </tr>\n",
       "    <tr>\n",
       "      <th>608</th>\n",
       "      <td>608</td>\n",
       "      <td>609</td>\n",
       "      <td>0.2727</td>\n",
       "      <td>0.80</td>\n",
       "      <td>0.0000</td>\n",
       "      <td>2</td>\n",
       "      <td>36</td>\n",
       "      <td>38</td>\n",
       "      <td>NaN</td>\n",
       "      <td>NaN</td>\n",
       "      <td>...</td>\n",
       "      <td>NaN</td>\n",
       "      <td>NaN</td>\n",
       "      <td>NaN</td>\n",
       "      <td>NaN</td>\n",
       "      <td>NaN</td>\n",
       "      <td>NaN</td>\n",
       "      <td>NaN</td>\n",
       "      <td>NaN</td>\n",
       "      <td>NaN</td>\n",
       "      <td>NaN</td>\n",
       "    </tr>\n",
       "    <tr>\n",
       "      <th>609</th>\n",
       "      <td>609</td>\n",
       "      <td>610</td>\n",
       "      <td>0.2576</td>\n",
       "      <td>0.86</td>\n",
       "      <td>0.0000</td>\n",
       "      <td>1</td>\n",
       "      <td>40</td>\n",
       "      <td>41</td>\n",
       "      <td>NaN</td>\n",
       "      <td>NaN</td>\n",
       "      <td>...</td>\n",
       "      <td>NaN</td>\n",
       "      <td>NaN</td>\n",
       "      <td>NaN</td>\n",
       "      <td>NaN</td>\n",
       "      <td>NaN</td>\n",
       "      <td>NaN</td>\n",
       "      <td>NaN</td>\n",
       "      <td>NaN</td>\n",
       "      <td>NaN</td>\n",
       "      <td>NaN</td>\n",
       "    </tr>\n",
       "  </tbody>\n",
       "</table>\n",
       "<p>610 rows × 24 columns</p>\n",
       "</div>"
      ],
      "text/plain": [
       "     Unnamed: 0  instant   atemp   hum  windspeed  casual  registered  cnt  \\\n",
       "0             0        1  0.2879  0.81     0.0000       3          13   16   \n",
       "1             1        2  0.2727  0.80     0.0000       8          32   40   \n",
       "2             2        3  0.2727  0.80     0.0000       5          27   32   \n",
       "3             3        4  0.2879  0.75     0.0000       3          10   13   \n",
       "4             4        5  0.2879  0.75     0.0000       0           1    1   \n",
       "..          ...      ...     ...   ...        ...     ...         ...  ...   \n",
       "605         605      606  0.2121  0.93     0.1045       0          30   30   \n",
       "606         606      607  0.2121  0.93     0.1045       1          28   29   \n",
       "607         607      608  0.2121  0.93     0.1045       0          31   31   \n",
       "608         608      609  0.2727  0.80     0.0000       2          36   38   \n",
       "609         609      610  0.2576  0.86     0.0000       1          40   41   \n",
       "\n",
       "     instant      dteday  ...  holiday  weekday  weathersit  temp   atemp  \\\n",
       "0      620.0  29-01-2011  ...    False      6.0         1.0  0.22  0.2273   \n",
       "1      621.0  29-01-2011  ...    False      6.0         1.0  0.22  0.2273   \n",
       "2      622.0  29-01-2011  ...    False      6.0         1.0  0.20  0.2121   \n",
       "3      623.0  29-01-2011  ...    False      6.0         1.0  0.16  0.1818   \n",
       "4      624.0  29-01-2011  ...    False      6.0         1.0  0.16  0.1818   \n",
       "..       ...         ...  ...      ...      ...         ...   ...     ...   \n",
       "605      NaN         NaN  ...      NaN      NaN         NaN   NaN     NaN   \n",
       "606      NaN         NaN  ...      NaN      NaN         NaN   NaN     NaN   \n",
       "607      NaN         NaN  ...      NaN      NaN         NaN   NaN     NaN   \n",
       "608      NaN         NaN  ...      NaN      NaN         NaN   NaN     NaN   \n",
       "609      NaN         NaN  ...      NaN      NaN         NaN   NaN     NaN   \n",
       "\n",
       "      hum  windspeed  casual  registered   cnt  \n",
       "0    0.64     0.1940     0.0        20.0  20.0  \n",
       "1    0.64     0.1642     0.0        15.0  15.0  \n",
       "2    0.64     0.1343     3.0         5.0   8.0  \n",
       "3    0.69     0.1045     1.0         2.0   3.0  \n",
       "4    0.64     0.1343     0.0         2.0   2.0  \n",
       "..    ...        ...     ...         ...   ...  \n",
       "605   NaN        NaN     NaN         NaN   NaN  \n",
       "606   NaN        NaN     NaN         NaN   NaN  \n",
       "607   NaN        NaN     NaN         NaN   NaN  \n",
       "608   NaN        NaN     NaN         NaN   NaN  \n",
       "609   NaN        NaN     NaN         NaN   NaN  \n",
       "\n",
       "[610 rows x 24 columns]"
      ]
     },
     "execution_count": 11,
     "metadata": {},
     "output_type": "execute_result"
    }
   ],
   "source": [
    "concatenated_data = pd.concat([df2, df3], axis=1)\n",
    "concatenated_data"
   ]
  },
  {
   "cell_type": "markdown",
   "id": "bff22590",
   "metadata": {},
   "source": [
    "***concatenated 2 colum froms dataset2 and dataset3***"
   ]
  },
  {
   "cell_type": "code",
   "execution_count": 13,
   "id": "6369a762",
   "metadata": {},
   "outputs": [
    {
     "data": {
      "text/plain": [
       "0      1.00\n",
       "1      2.00\n",
       "2      3.00\n",
       "3      4.00\n",
       "4      5.00\n",
       "       ... \n",
       "385    0.24\n",
       "386    0.22\n",
       "387    0.24\n",
       "388    0.24\n",
       "389    0.22\n",
       "Length: 1000, dtype: float64"
      ]
     },
     "execution_count": 13,
     "metadata": {},
     "output_type": "execute_result"
    }
   ],
   "source": [
    "concatenated_df = pd.concat([df2['instant'], df3['temp']], axis=0)\n",
    "concatenated_df"
   ]
  },
  {
   "cell_type": "markdown",
   "id": "abd07c6a",
   "metadata": {},
   "source": [
    "# Identify unique values"
   ]
  },
  {
   "cell_type": "code",
   "execution_count": 14,
   "id": "9fe397c5",
   "metadata": {},
   "outputs": [
    {
     "data": {
      "text/plain": [
       "array([0.22, 0.2 , 0.16, 0.18, 0.24, 0.14, 0.3 , 0.28, 0.26, 0.34, 0.38,\n",
       "       0.36, 0.32, 0.12, 0.1 , 0.08, 0.06, 0.4 , 0.42])"
      ]
     },
     "execution_count": 14,
     "metadata": {},
     "output_type": "execute_result"
    }
   ],
   "source": [
    "unique_values = df3['temp'].unique() #Finding Unique Values In temp from dataset3 colum\n",
    "unique_values"
   ]
  },
  {
   "cell_type": "code",
   "execution_count": 15,
   "id": "7aa6089a",
   "metadata": {},
   "outputs": [
    {
     "data": {
      "text/plain": [
       "array([0.2273, 0.2121, 0.1818, 0.197 , 0.2424, 0.2879, 0.2727, 0.3182,\n",
       "       0.303 , 0.3333, 0.2576, 0.1667, 0.1364, 0.1515, 0.3939, 0.1212,\n",
       "       0.3636, 0.3485, 0.1061, 0.0758, 0.4091, 0.4242])"
      ]
     },
     "execution_count": 15,
     "metadata": {},
     "output_type": "execute_result"
    }
   ],
   "source": [
    "unique_values = df3['atemp'].unique() #Finding Unique Values In temp from dataset3 colum\n",
    "unique_values"
   ]
  },
  {
   "cell_type": "code",
   "execution_count": 17,
   "id": "36adf1df",
   "metadata": {},
   "outputs": [
    {
     "data": {
      "text/plain": [
       "array([0.64, 0.69, 0.59, 0.55, 0.6 , 0.74, 0.8 , 0.93, 0.86, 0.75, 0.52,\n",
       "       0.61, 0.56, 0.65, 0.7 , 0.81, 0.87, 1.  , 0.82, 0.76, 0.71, 0.53,\n",
       "       0.42, 0.45, 0.48, 0.47, 0.44, 0.4 , 0.43, 0.5 , 0.37, 0.51, 0.63,\n",
       "       0.49, 0.46, 0.62, 0.57, 0.54, 0.66, 0.38, 0.32, 0.35, 0.33, 0.36,\n",
       "       0.39, 0.34, 0.29, 0.27, 0.25, 0.26, 0.28, 0.31, 0.68, 0.73, 0.21,\n",
       "       0.24, 0.41, 0.3 ])"
      ]
     },
     "execution_count": 17,
     "metadata": {},
     "output_type": "execute_result"
    }
   ],
   "source": [
    "unique_values = df3['hum'].unique() #Finding Unique Values In humidity from dataset3 colum\n",
    "unique_values"
   ]
  },
  {
   "cell_type": "code",
   "execution_count": 18,
   "id": "e9f02bd4",
   "metadata": {},
   "outputs": [
    {
     "data": {
      "text/plain": [
       "array([0.194 , 0.1642, 0.1343, 0.1045, 0.0896, 0.2537, 0.    , 0.2836,\n",
       "       0.2239, 0.3284, 0.2985, 0.3881, 0.5224, 0.5522, 0.4925, 0.4478,\n",
       "       0.3582, 0.4179, 0.4627, 0.5821])"
      ]
     },
     "execution_count": 18,
     "metadata": {},
     "output_type": "execute_result"
    }
   ],
   "source": [
    "unique_values = df3['windspeed'].unique() #Finding Unique Values In windspeed from dataset3 colum\n",
    "unique_values"
   ]
  },
  {
   "cell_type": "markdown",
   "id": "3851100c",
   "metadata": {},
   "source": [
    "# Drop unnecessary columns"
   ]
  },
  {
   "cell_type": "code",
   "execution_count": 19,
   "id": "9bfc76cf",
   "metadata": {},
   "outputs": [
    {
     "data": {
      "text/html": [
       "<div>\n",
       "<style scoped>\n",
       "    .dataframe tbody tr th:only-of-type {\n",
       "        vertical-align: middle;\n",
       "    }\n",
       "\n",
       "    .dataframe tbody tr th {\n",
       "        vertical-align: top;\n",
       "    }\n",
       "\n",
       "    .dataframe thead th {\n",
       "        text-align: right;\n",
       "    }\n",
       "</style>\n",
       "<table border=\"1\" class=\"dataframe\">\n",
       "  <thead>\n",
       "    <tr style=\"text-align: right;\">\n",
       "      <th></th>\n",
       "      <th>instant</th>\n",
       "      <th>dteday</th>\n",
       "      <th>season</th>\n",
       "      <th>yr</th>\n",
       "      <th>mnth</th>\n",
       "      <th>hr</th>\n",
       "      <th>holiday</th>\n",
       "      <th>weekday</th>\n",
       "      <th>weathersit</th>\n",
       "      <th>temp</th>\n",
       "      <th>hum</th>\n",
       "      <th>windspeed</th>\n",
       "      <th>registered</th>\n",
       "      <th>cnt</th>\n",
       "    </tr>\n",
       "  </thead>\n",
       "  <tbody>\n",
       "    <tr>\n",
       "      <th>0</th>\n",
       "      <td>620</td>\n",
       "      <td>29-01-2011</td>\n",
       "      <td>1</td>\n",
       "      <td>0</td>\n",
       "      <td>1</td>\n",
       "      <td>1</td>\n",
       "      <td>False</td>\n",
       "      <td>6</td>\n",
       "      <td>1</td>\n",
       "      <td>0.22</td>\n",
       "      <td>0.64</td>\n",
       "      <td>0.1940</td>\n",
       "      <td>20</td>\n",
       "      <td>20</td>\n",
       "    </tr>\n",
       "    <tr>\n",
       "      <th>1</th>\n",
       "      <td>621</td>\n",
       "      <td>29-01-2011</td>\n",
       "      <td>1</td>\n",
       "      <td>0</td>\n",
       "      <td>1</td>\n",
       "      <td>2</td>\n",
       "      <td>False</td>\n",
       "      <td>6</td>\n",
       "      <td>1</td>\n",
       "      <td>0.22</td>\n",
       "      <td>0.64</td>\n",
       "      <td>0.1642</td>\n",
       "      <td>15</td>\n",
       "      <td>15</td>\n",
       "    </tr>\n",
       "    <tr>\n",
       "      <th>2</th>\n",
       "      <td>622</td>\n",
       "      <td>29-01-2011</td>\n",
       "      <td>1</td>\n",
       "      <td>0</td>\n",
       "      <td>1</td>\n",
       "      <td>3</td>\n",
       "      <td>False</td>\n",
       "      <td>6</td>\n",
       "      <td>1</td>\n",
       "      <td>0.20</td>\n",
       "      <td>0.64</td>\n",
       "      <td>0.1343</td>\n",
       "      <td>5</td>\n",
       "      <td>8</td>\n",
       "    </tr>\n",
       "    <tr>\n",
       "      <th>3</th>\n",
       "      <td>623</td>\n",
       "      <td>29-01-2011</td>\n",
       "      <td>1</td>\n",
       "      <td>0</td>\n",
       "      <td>1</td>\n",
       "      <td>4</td>\n",
       "      <td>False</td>\n",
       "      <td>6</td>\n",
       "      <td>1</td>\n",
       "      <td>0.16</td>\n",
       "      <td>0.69</td>\n",
       "      <td>0.1045</td>\n",
       "      <td>2</td>\n",
       "      <td>3</td>\n",
       "    </tr>\n",
       "    <tr>\n",
       "      <th>4</th>\n",
       "      <td>624</td>\n",
       "      <td>29-01-2011</td>\n",
       "      <td>1</td>\n",
       "      <td>0</td>\n",
       "      <td>1</td>\n",
       "      <td>6</td>\n",
       "      <td>False</td>\n",
       "      <td>6</td>\n",
       "      <td>1</td>\n",
       "      <td>0.16</td>\n",
       "      <td>0.64</td>\n",
       "      <td>0.1343</td>\n",
       "      <td>2</td>\n",
       "      <td>2</td>\n",
       "    </tr>\n",
       "    <tr>\n",
       "      <th>...</th>\n",
       "      <td>...</td>\n",
       "      <td>...</td>\n",
       "      <td>...</td>\n",
       "      <td>...</td>\n",
       "      <td>...</td>\n",
       "      <td>...</td>\n",
       "      <td>...</td>\n",
       "      <td>...</td>\n",
       "      <td>...</td>\n",
       "      <td>...</td>\n",
       "      <td>...</td>\n",
       "      <td>...</td>\n",
       "      <td>...</td>\n",
       "      <td>...</td>\n",
       "    </tr>\n",
       "    <tr>\n",
       "      <th>385</th>\n",
       "      <td>615</td>\n",
       "      <td>28-01-2011</td>\n",
       "      <td>1</td>\n",
       "      <td>0</td>\n",
       "      <td>1</td>\n",
       "      <td>20</td>\n",
       "      <td>False</td>\n",
       "      <td>5</td>\n",
       "      <td>2</td>\n",
       "      <td>0.24</td>\n",
       "      <td>0.70</td>\n",
       "      <td>0.1940</td>\n",
       "      <td>61</td>\n",
       "      <td>62</td>\n",
       "    </tr>\n",
       "    <tr>\n",
       "      <th>386</th>\n",
       "      <td>616</td>\n",
       "      <td>28-01-2011</td>\n",
       "      <td>1</td>\n",
       "      <td>0</td>\n",
       "      <td>1</td>\n",
       "      <td>21</td>\n",
       "      <td>False</td>\n",
       "      <td>5</td>\n",
       "      <td>2</td>\n",
       "      <td>0.22</td>\n",
       "      <td>0.75</td>\n",
       "      <td>0.1343</td>\n",
       "      <td>57</td>\n",
       "      <td>58</td>\n",
       "    </tr>\n",
       "    <tr>\n",
       "      <th>387</th>\n",
       "      <td>617</td>\n",
       "      <td>28-01-2011</td>\n",
       "      <td>1</td>\n",
       "      <td>0</td>\n",
       "      <td>1</td>\n",
       "      <td>22</td>\n",
       "      <td>False</td>\n",
       "      <td>5</td>\n",
       "      <td>1</td>\n",
       "      <td>0.24</td>\n",
       "      <td>0.65</td>\n",
       "      <td>0.3582</td>\n",
       "      <td>26</td>\n",
       "      <td>26</td>\n",
       "    </tr>\n",
       "    <tr>\n",
       "      <th>388</th>\n",
       "      <td>618</td>\n",
       "      <td>28-01-2011</td>\n",
       "      <td>1</td>\n",
       "      <td>0</td>\n",
       "      <td>1</td>\n",
       "      <td>23</td>\n",
       "      <td>False</td>\n",
       "      <td>5</td>\n",
       "      <td>1</td>\n",
       "      <td>0.24</td>\n",
       "      <td>0.60</td>\n",
       "      <td>0.2239</td>\n",
       "      <td>22</td>\n",
       "      <td>23</td>\n",
       "    </tr>\n",
       "    <tr>\n",
       "      <th>389</th>\n",
       "      <td>619</td>\n",
       "      <td>29-01-2011</td>\n",
       "      <td>1</td>\n",
       "      <td>0</td>\n",
       "      <td>1</td>\n",
       "      <td>0</td>\n",
       "      <td>False</td>\n",
       "      <td>6</td>\n",
       "      <td>1</td>\n",
       "      <td>0.22</td>\n",
       "      <td>0.64</td>\n",
       "      <td>0.3582</td>\n",
       "      <td>26</td>\n",
       "      <td>28</td>\n",
       "    </tr>\n",
       "  </tbody>\n",
       "</table>\n",
       "<p>390 rows × 14 columns</p>\n",
       "</div>"
      ],
      "text/plain": [
       "     instant      dteday  season  yr  mnth  hr  holiday  weekday  weathersit  \\\n",
       "0        620  29-01-2011       1   0     1   1    False        6           1   \n",
       "1        621  29-01-2011       1   0     1   2    False        6           1   \n",
       "2        622  29-01-2011       1   0     1   3    False        6           1   \n",
       "3        623  29-01-2011       1   0     1   4    False        6           1   \n",
       "4        624  29-01-2011       1   0     1   6    False        6           1   \n",
       "..       ...         ...     ...  ..   ...  ..      ...      ...         ...   \n",
       "385      615  28-01-2011       1   0     1  20    False        5           2   \n",
       "386      616  28-01-2011       1   0     1  21    False        5           2   \n",
       "387      617  28-01-2011       1   0     1  22    False        5           1   \n",
       "388      618  28-01-2011       1   0     1  23    False        5           1   \n",
       "389      619  29-01-2011       1   0     1   0    False        6           1   \n",
       "\n",
       "     temp   hum  windspeed  registered  cnt  \n",
       "0    0.22  0.64     0.1940          20   20  \n",
       "1    0.22  0.64     0.1642          15   15  \n",
       "2    0.20  0.64     0.1343           5    8  \n",
       "3    0.16  0.69     0.1045           2    3  \n",
       "4    0.16  0.64     0.1343           2    2  \n",
       "..    ...   ...        ...         ...  ...  \n",
       "385  0.24  0.70     0.1940          61   62  \n",
       "386  0.22  0.75     0.1343          57   58  \n",
       "387  0.24  0.65     0.3582          26   26  \n",
       "388  0.24  0.60     0.2239          22   23  \n",
       "389  0.22  0.64     0.3582          26   28  \n",
       "\n",
       "[390 rows x 14 columns]"
      ]
     },
     "execution_count": 19,
     "metadata": {},
     "output_type": "execute_result"
    }
   ],
   "source": [
    "cleaned_data = df3.drop(['atemp', 'casual'], axis=1)  #From data3 removed atemp and casual colum\n",
    "cleaned_data"
   ]
  },
  {
   "cell_type": "markdown",
   "id": "352384eb",
   "metadata": {},
   "source": [
    "# Check the dimension of the datase"
   ]
  },
  {
   "cell_type": "code",
   "execution_count": 21,
   "id": "5a591bec",
   "metadata": {},
   "outputs": [
    {
     "data": {
      "text/plain": [
       "(390, 16)"
      ]
     },
     "execution_count": 21,
     "metadata": {},
     "output_type": "execute_result"
    }
   ],
   "source": [
    "data_dimension = df3.shape\n",
    "data_dimension"
   ]
  },
  {
   "cell_type": "markdown",
   "id": "c34ed4d6",
   "metadata": {},
   "source": [
    "# Check the datatype of the dataset"
   ]
  },
  {
   "cell_type": "code",
   "execution_count": 22,
   "id": "6170c71b",
   "metadata": {},
   "outputs": [
    {
     "data": {
      "text/plain": [
       "instant         int64\n",
       "dteday         object\n",
       "season          int64\n",
       "yr              int64\n",
       "mnth            int64\n",
       "hr              int64\n",
       "holiday          bool\n",
       "weekday         int64\n",
       "weathersit      int64\n",
       "temp          float64\n",
       "atemp         float64\n",
       "hum           float64\n",
       "windspeed     float64\n",
       "casual          int64\n",
       "registered      int64\n",
       "cnt             int64\n",
       "dtype: object"
      ]
     },
     "execution_count": 22,
     "metadata": {},
     "output_type": "execute_result"
    }
   ],
   "source": [
    "database_type = df3.dtypes\n",
    "database_type"
   ]
  },
  {
   "cell_type": "markdown",
   "id": "d17f83bd",
   "metadata": {},
   "source": [
    "# Check datatype summary"
   ]
  },
  {
   "cell_type": "code",
   "execution_count": 23,
   "id": "b73c79ec",
   "metadata": {},
   "outputs": [
    {
     "name": "stdout",
     "output_type": "stream",
     "text": [
      "<class 'pandas.core.frame.DataFrame'>\n",
      "RangeIndex: 390 entries, 0 to 389\n",
      "Data columns (total 16 columns):\n",
      " #   Column      Non-Null Count  Dtype  \n",
      "---  ------      --------------  -----  \n",
      " 0   instant     390 non-null    int64  \n",
      " 1   dteday      390 non-null    object \n",
      " 2   season      390 non-null    int64  \n",
      " 3   yr          390 non-null    int64  \n",
      " 4   mnth        390 non-null    int64  \n",
      " 5   hr          390 non-null    int64  \n",
      " 6   holiday     390 non-null    bool   \n",
      " 7   weekday     390 non-null    int64  \n",
      " 8   weathersit  390 non-null    int64  \n",
      " 9   temp        390 non-null    float64\n",
      " 10  atemp       390 non-null    float64\n",
      " 11  hum         390 non-null    float64\n",
      " 12  windspeed   390 non-null    float64\n",
      " 13  casual      390 non-null    int64  \n",
      " 14  registered  390 non-null    int64  \n",
      " 15  cnt         390 non-null    int64  \n",
      "dtypes: bool(1), float64(4), int64(10), object(1)\n",
      "memory usage: 46.2+ KB\n"
     ]
    }
   ],
   "source": [
    "data_summary = df3.info()\n",
    "data_summary"
   ]
  },
  {
   "cell_type": "markdown",
   "id": "de2f7137",
   "metadata": {},
   "source": [
    "# Missing values on database 3 "
   ]
  },
  {
   "cell_type": "code",
   "execution_count": 26,
   "id": "4958fb29",
   "metadata": {},
   "outputs": [
    {
     "data": {
      "text/html": [
       "<div>\n",
       "<style scoped>\n",
       "    .dataframe tbody tr th:only-of-type {\n",
       "        vertical-align: middle;\n",
       "    }\n",
       "\n",
       "    .dataframe tbody tr th {\n",
       "        vertical-align: top;\n",
       "    }\n",
       "\n",
       "    .dataframe thead th {\n",
       "        text-align: right;\n",
       "    }\n",
       "</style>\n",
       "<table border=\"1\" class=\"dataframe\">\n",
       "  <thead>\n",
       "    <tr style=\"text-align: right;\">\n",
       "      <th></th>\n",
       "      <th>instant</th>\n",
       "      <th>dteday</th>\n",
       "      <th>season</th>\n",
       "      <th>yr</th>\n",
       "      <th>mnth</th>\n",
       "      <th>hr</th>\n",
       "      <th>holiday</th>\n",
       "      <th>weekday</th>\n",
       "      <th>weathersit</th>\n",
       "      <th>temp</th>\n",
       "      <th>atemp</th>\n",
       "      <th>hum</th>\n",
       "      <th>windspeed</th>\n",
       "      <th>casual</th>\n",
       "      <th>registered</th>\n",
       "      <th>cnt</th>\n",
       "    </tr>\n",
       "  </thead>\n",
       "  <tbody>\n",
       "    <tr>\n",
       "      <th>0</th>\n",
       "      <td>False</td>\n",
       "      <td>False</td>\n",
       "      <td>False</td>\n",
       "      <td>False</td>\n",
       "      <td>False</td>\n",
       "      <td>False</td>\n",
       "      <td>False</td>\n",
       "      <td>False</td>\n",
       "      <td>False</td>\n",
       "      <td>False</td>\n",
       "      <td>False</td>\n",
       "      <td>False</td>\n",
       "      <td>False</td>\n",
       "      <td>False</td>\n",
       "      <td>False</td>\n",
       "      <td>False</td>\n",
       "    </tr>\n",
       "    <tr>\n",
       "      <th>1</th>\n",
       "      <td>False</td>\n",
       "      <td>False</td>\n",
       "      <td>False</td>\n",
       "      <td>False</td>\n",
       "      <td>False</td>\n",
       "      <td>False</td>\n",
       "      <td>False</td>\n",
       "      <td>False</td>\n",
       "      <td>False</td>\n",
       "      <td>False</td>\n",
       "      <td>False</td>\n",
       "      <td>False</td>\n",
       "      <td>False</td>\n",
       "      <td>False</td>\n",
       "      <td>False</td>\n",
       "      <td>False</td>\n",
       "    </tr>\n",
       "    <tr>\n",
       "      <th>2</th>\n",
       "      <td>False</td>\n",
       "      <td>False</td>\n",
       "      <td>False</td>\n",
       "      <td>False</td>\n",
       "      <td>False</td>\n",
       "      <td>False</td>\n",
       "      <td>False</td>\n",
       "      <td>False</td>\n",
       "      <td>False</td>\n",
       "      <td>False</td>\n",
       "      <td>False</td>\n",
       "      <td>False</td>\n",
       "      <td>False</td>\n",
       "      <td>False</td>\n",
       "      <td>False</td>\n",
       "      <td>False</td>\n",
       "    </tr>\n",
       "    <tr>\n",
       "      <th>3</th>\n",
       "      <td>False</td>\n",
       "      <td>False</td>\n",
       "      <td>False</td>\n",
       "      <td>False</td>\n",
       "      <td>False</td>\n",
       "      <td>False</td>\n",
       "      <td>False</td>\n",
       "      <td>False</td>\n",
       "      <td>False</td>\n",
       "      <td>False</td>\n",
       "      <td>False</td>\n",
       "      <td>False</td>\n",
       "      <td>False</td>\n",
       "      <td>False</td>\n",
       "      <td>False</td>\n",
       "      <td>False</td>\n",
       "    </tr>\n",
       "    <tr>\n",
       "      <th>4</th>\n",
       "      <td>False</td>\n",
       "      <td>False</td>\n",
       "      <td>False</td>\n",
       "      <td>False</td>\n",
       "      <td>False</td>\n",
       "      <td>False</td>\n",
       "      <td>False</td>\n",
       "      <td>False</td>\n",
       "      <td>False</td>\n",
       "      <td>False</td>\n",
       "      <td>False</td>\n",
       "      <td>False</td>\n",
       "      <td>False</td>\n",
       "      <td>False</td>\n",
       "      <td>False</td>\n",
       "      <td>False</td>\n",
       "    </tr>\n",
       "    <tr>\n",
       "      <th>...</th>\n",
       "      <td>...</td>\n",
       "      <td>...</td>\n",
       "      <td>...</td>\n",
       "      <td>...</td>\n",
       "      <td>...</td>\n",
       "      <td>...</td>\n",
       "      <td>...</td>\n",
       "      <td>...</td>\n",
       "      <td>...</td>\n",
       "      <td>...</td>\n",
       "      <td>...</td>\n",
       "      <td>...</td>\n",
       "      <td>...</td>\n",
       "      <td>...</td>\n",
       "      <td>...</td>\n",
       "      <td>...</td>\n",
       "    </tr>\n",
       "    <tr>\n",
       "      <th>385</th>\n",
       "      <td>False</td>\n",
       "      <td>False</td>\n",
       "      <td>False</td>\n",
       "      <td>False</td>\n",
       "      <td>False</td>\n",
       "      <td>False</td>\n",
       "      <td>False</td>\n",
       "      <td>False</td>\n",
       "      <td>False</td>\n",
       "      <td>False</td>\n",
       "      <td>False</td>\n",
       "      <td>False</td>\n",
       "      <td>False</td>\n",
       "      <td>False</td>\n",
       "      <td>False</td>\n",
       "      <td>False</td>\n",
       "    </tr>\n",
       "    <tr>\n",
       "      <th>386</th>\n",
       "      <td>False</td>\n",
       "      <td>False</td>\n",
       "      <td>False</td>\n",
       "      <td>False</td>\n",
       "      <td>False</td>\n",
       "      <td>False</td>\n",
       "      <td>False</td>\n",
       "      <td>False</td>\n",
       "      <td>False</td>\n",
       "      <td>False</td>\n",
       "      <td>False</td>\n",
       "      <td>False</td>\n",
       "      <td>False</td>\n",
       "      <td>False</td>\n",
       "      <td>False</td>\n",
       "      <td>False</td>\n",
       "    </tr>\n",
       "    <tr>\n",
       "      <th>387</th>\n",
       "      <td>False</td>\n",
       "      <td>False</td>\n",
       "      <td>False</td>\n",
       "      <td>False</td>\n",
       "      <td>False</td>\n",
       "      <td>False</td>\n",
       "      <td>False</td>\n",
       "      <td>False</td>\n",
       "      <td>False</td>\n",
       "      <td>False</td>\n",
       "      <td>False</td>\n",
       "      <td>False</td>\n",
       "      <td>False</td>\n",
       "      <td>False</td>\n",
       "      <td>False</td>\n",
       "      <td>False</td>\n",
       "    </tr>\n",
       "    <tr>\n",
       "      <th>388</th>\n",
       "      <td>False</td>\n",
       "      <td>False</td>\n",
       "      <td>False</td>\n",
       "      <td>False</td>\n",
       "      <td>False</td>\n",
       "      <td>False</td>\n",
       "      <td>False</td>\n",
       "      <td>False</td>\n",
       "      <td>False</td>\n",
       "      <td>False</td>\n",
       "      <td>False</td>\n",
       "      <td>False</td>\n",
       "      <td>False</td>\n",
       "      <td>False</td>\n",
       "      <td>False</td>\n",
       "      <td>False</td>\n",
       "    </tr>\n",
       "    <tr>\n",
       "      <th>389</th>\n",
       "      <td>False</td>\n",
       "      <td>False</td>\n",
       "      <td>False</td>\n",
       "      <td>False</td>\n",
       "      <td>False</td>\n",
       "      <td>False</td>\n",
       "      <td>False</td>\n",
       "      <td>False</td>\n",
       "      <td>False</td>\n",
       "      <td>False</td>\n",
       "      <td>False</td>\n",
       "      <td>False</td>\n",
       "      <td>False</td>\n",
       "      <td>False</td>\n",
       "      <td>False</td>\n",
       "      <td>False</td>\n",
       "    </tr>\n",
       "  </tbody>\n",
       "</table>\n",
       "<p>390 rows × 16 columns</p>\n",
       "</div>"
      ],
      "text/plain": [
       "     instant  dteday  season     yr   mnth     hr  holiday  weekday  \\\n",
       "0      False   False   False  False  False  False    False    False   \n",
       "1      False   False   False  False  False  False    False    False   \n",
       "2      False   False   False  False  False  False    False    False   \n",
       "3      False   False   False  False  False  False    False    False   \n",
       "4      False   False   False  False  False  False    False    False   \n",
       "..       ...     ...     ...    ...    ...    ...      ...      ...   \n",
       "385    False   False   False  False  False  False    False    False   \n",
       "386    False   False   False  False  False  False    False    False   \n",
       "387    False   False   False  False  False  False    False    False   \n",
       "388    False   False   False  False  False  False    False    False   \n",
       "389    False   False   False  False  False  False    False    False   \n",
       "\n",
       "     weathersit   temp  atemp    hum  windspeed  casual  registered    cnt  \n",
       "0         False  False  False  False      False   False       False  False  \n",
       "1         False  False  False  False      False   False       False  False  \n",
       "2         False  False  False  False      False   False       False  False  \n",
       "3         False  False  False  False      False   False       False  False  \n",
       "4         False  False  False  False      False   False       False  False  \n",
       "..          ...    ...    ...    ...        ...     ...         ...    ...  \n",
       "385       False  False  False  False      False   False       False  False  \n",
       "386       False  False  False  False      False   False       False  False  \n",
       "387       False  False  False  False      False   False       False  False  \n",
       "388       False  False  False  False      False   False       False  False  \n",
       "389       False  False  False  False      False   False       False  False  \n",
       "\n",
       "[390 rows x 16 columns]"
      ]
     },
     "execution_count": 26,
     "metadata": {},
     "output_type": "execute_result"
    }
   ],
   "source": [
    "missing_values = df3.isnull()   # Returns a DataFrame of True/False values\n",
    "missing_values "
   ]
  },
  {
   "cell_type": "code",
   "execution_count": 27,
   "id": "299de2dd",
   "metadata": {},
   "outputs": [
    {
     "data": {
      "text/plain": [
       "instant       0\n",
       "dteday        0\n",
       "season        0\n",
       "yr            0\n",
       "mnth          0\n",
       "hr            0\n",
       "holiday       0\n",
       "weekday       0\n",
       "weathersit    0\n",
       "temp          0\n",
       "atemp         0\n",
       "hum           0\n",
       "windspeed     0\n",
       "casual        0\n",
       "registered    0\n",
       "cnt           0\n",
       "dtype: int64"
      ]
     },
     "execution_count": 27,
     "metadata": {},
     "output_type": "execute_result"
    }
   ],
   "source": [
    "missing_counts = df3.isnull().sum()    # Count missing values in each column\n",
    "missing_counts"
   ]
  },
  {
   "cell_type": "markdown",
   "id": "8e3a4874",
   "metadata": {},
   "source": [
    "# work on central Tendency"
   ]
  },
  {
   "cell_type": "markdown",
   "id": "8cac93ca",
   "metadata": {},
   "source": [
    "***MEAN***"
   ]
  },
  {
   "cell_type": "code",
   "execution_count": 24,
   "id": "4ca4d674",
   "metadata": {},
   "outputs": [
    {
     "data": {
      "text/plain": [
       "57.0025641025641"
      ]
     },
     "execution_count": 24,
     "metadata": {},
     "output_type": "execute_result"
    }
   ],
   "source": [
    "MEAN =df3['registered'].mean()\n",
    "MEAN"
   ]
  },
  {
   "cell_type": "code",
   "execution_count": 25,
   "id": "b1197817",
   "metadata": {},
   "outputs": [
    {
     "data": {
      "text/plain": [
       "62.57948717948718"
      ]
     },
     "execution_count": 25,
     "metadata": {},
     "output_type": "execute_result"
    }
   ],
   "source": [
    "MEAN =df3['cnt'].mean()\n",
    "MEAN"
   ]
  },
  {
   "cell_type": "code",
   "execution_count": 26,
   "id": "7b342db1",
   "metadata": {},
   "outputs": [
    {
     "data": {
      "text/plain": [
       "0.17941589743589745"
      ]
     },
     "execution_count": 26,
     "metadata": {},
     "output_type": "execute_result"
    }
   ],
   "source": [
    "MEAN =df3['windspeed'].mean()\n",
    "MEAN"
   ]
  },
  {
   "cell_type": "markdown",
   "id": "b8cd3dfc",
   "metadata": {},
   "source": [
    "***MEDIAN***"
   ]
  },
  {
   "cell_type": "code",
   "execution_count": 27,
   "id": "2c5fe689",
   "metadata": {},
   "outputs": [
    {
     "data": {
      "text/plain": [
       "48.0"
      ]
     },
     "execution_count": 27,
     "metadata": {},
     "output_type": "execute_result"
    }
   ],
   "source": [
    "median = df3['registered'].median()\n",
    "median"
   ]
  },
  {
   "cell_type": "code",
   "execution_count": 28,
   "id": "e7dcbcd6",
   "metadata": {},
   "outputs": [
    {
     "data": {
      "text/plain": [
       "52.0"
      ]
     },
     "execution_count": 28,
     "metadata": {},
     "output_type": "execute_result"
    }
   ],
   "source": [
    "median = df3['cnt'].median()\n",
    "median"
   ]
  },
  {
   "cell_type": "code",
   "execution_count": 29,
   "id": "a5d86f63",
   "metadata": {},
   "outputs": [
    {
     "data": {
      "text/plain": [
       "0.1642"
      ]
     },
     "execution_count": 29,
     "metadata": {},
     "output_type": "execute_result"
    }
   ],
   "source": [
    "median = df3['windspeed'].median()\n",
    "median"
   ]
  },
  {
   "cell_type": "markdown",
   "id": "d1556370",
   "metadata": {},
   "source": [
    "***MODE***"
   ]
  },
  {
   "cell_type": "code",
   "execution_count": 30,
   "id": "5047fb5f",
   "metadata": {},
   "outputs": [
    {
     "data": {
      "text/plain": [
       "0    1\n",
       "Name: registered, dtype: int64"
      ]
     },
     "execution_count": 30,
     "metadata": {},
     "output_type": "execute_result"
    }
   ],
   "source": [
    "mode = df3['registered'].mode()\n",
    "mode"
   ]
  },
  {
   "cell_type": "code",
   "execution_count": 31,
   "id": "39af88d8",
   "metadata": {},
   "outputs": [
    {
     "data": {
      "text/plain": [
       "0    2\n",
       "Name: cnt, dtype: int64"
      ]
     },
     "execution_count": 31,
     "metadata": {},
     "output_type": "execute_result"
    }
   ],
   "source": [
    "mode = df3['cnt'].mode()\n",
    "mode"
   ]
  },
  {
   "cell_type": "code",
   "execution_count": 32,
   "id": "89aafcfc",
   "metadata": {},
   "outputs": [
    {
     "data": {
      "text/plain": [
       "0    0.0\n",
       "Name: windspeed, dtype: float64"
      ]
     },
     "execution_count": 32,
     "metadata": {},
     "output_type": "execute_result"
    }
   ],
   "source": [
    "mode = df3['windspeed'].mode()\n",
    "mode"
   ]
  },
  {
   "cell_type": "markdown",
   "id": "30eee64a",
   "metadata": {},
   "source": [
    "***QAURTILE***"
   ]
  },
  {
   "cell_type": "code",
   "execution_count": 33,
   "id": "e6787e03",
   "metadata": {},
   "outputs": [
    {
     "data": {
      "text/plain": [
       "17.0"
      ]
     },
     "execution_count": 33,
     "metadata": {},
     "output_type": "execute_result"
    }
   ],
   "source": [
    "q1 =df3['registered'].quantile(.25)\n",
    "q1"
   ]
  },
  {
   "cell_type": "code",
   "execution_count": 35,
   "id": "f4609ebc",
   "metadata": {},
   "outputs": [
    {
     "data": {
      "text/plain": [
       "88.75"
      ]
     },
     "execution_count": 35,
     "metadata": {},
     "output_type": "execute_result"
    }
   ],
   "source": [
    "q2 =df3['cnt'].quantile(.75)\n",
    "q2"
   ]
  },
  {
   "cell_type": "code",
   "execution_count": 36,
   "id": "ff19313f",
   "metadata": {},
   "outputs": [
    {
     "data": {
      "text/plain": [
       "0.0"
      ]
     },
     "execution_count": 36,
     "metadata": {},
     "output_type": "execute_result"
    }
   ],
   "source": [
    "q3 =df3['windspeed'].quantile(.125)\n",
    "q3"
   ]
  },
  {
   "cell_type": "markdown",
   "id": "e278e74c",
   "metadata": {},
   "source": [
    "***SKEWNESS***"
   ]
  },
  {
   "cell_type": "code",
   "execution_count": 37,
   "id": "8a13c9c2",
   "metadata": {},
   "outputs": [
    {
     "name": "stdout",
     "output_type": "stream",
     "text": [
      "Skewness for the entire DataFrame:\n",
      "instant       0.000000\n",
      "season        0.000000\n",
      "yr            0.000000\n",
      "mnth         -1.505798\n",
      "hr           -0.050086\n",
      "holiday       0.000000\n",
      "weekday       0.014906\n",
      "weathersit    1.037234\n",
      "temp          0.479548\n",
      "atemp         0.440540\n",
      "hum           0.161484\n",
      "windspeed     0.620359\n",
      "casual        3.413724\n",
      "registered    1.115912\n",
      "cnt           0.987140\n",
      "dtype: float64\n"
     ]
    },
    {
     "name": "stderr",
     "output_type": "stream",
     "text": [
      "C:\\Users\\HP\\AppData\\Local\\Temp\\ipykernel_25372\\3115036028.py:1: FutureWarning: The default value of numeric_only in DataFrame.skew is deprecated. In a future version, it will default to False. In addition, specifying 'numeric_only=None' is deprecated. Select only valid columns or specify the value of numeric_only to silence this warning.\n",
      "  skewness_df3 = df3.skew()\n"
     ]
    }
   ],
   "source": [
    "skewness_df3 = df3.skew()\n",
    "print(\"Skewness for the entire DataFrame:\")\n",
    "print(skewness_df3)"
   ]
  },
  {
   "cell_type": "markdown",
   "id": "8b691575",
   "metadata": {},
   "source": [
    "***CORRELATION***"
   ]
  },
  {
   "cell_type": "code",
   "execution_count": 38,
   "id": "4dbc9d87",
   "metadata": {},
   "outputs": [
    {
     "name": "stdout",
     "output_type": "stream",
     "text": [
      "Correlation matrix for the entire DataFrame:\n",
      "             instant  season  yr      mnth        hr  holiday   weekday  \\\n",
      "instant     1.000000     NaN NaN  0.692823 -0.018596      NaN  0.000053   \n",
      "season           NaN     NaN NaN       NaN       NaN      NaN       NaN   \n",
      "yr               NaN     NaN NaN       NaN       NaN      NaN       NaN   \n",
      "mnth        0.692823     NaN NaN  1.000000 -0.056458      NaN  0.093148   \n",
      "hr         -0.018596     NaN NaN -0.056458  1.000000      NaN  0.050662   \n",
      "holiday          NaN     NaN NaN       NaN       NaN      NaN       NaN   \n",
      "weekday     0.000053     NaN NaN  0.093148  0.050662      NaN  1.000000   \n",
      "weathersit -0.220022     NaN NaN  0.027074 -0.054857      NaN  0.052128   \n",
      "temp        0.164053     NaN NaN  0.126446  0.278821      NaN -0.289220   \n",
      "atemp       0.117704     NaN NaN  0.091299  0.225257      NaN -0.319828   \n",
      "hum        -0.403658     NaN NaN -0.125794 -0.211255      NaN  0.049960   \n",
      "windspeed   0.206271     NaN NaN  0.142861  0.097096      NaN  0.023188   \n",
      "casual      0.219238     NaN NaN  0.074397  0.203295      NaN -0.120978   \n",
      "registered  0.041795     NaN NaN  0.063073  0.392769      NaN  0.013744   \n",
      "cnt         0.076839     NaN NaN  0.071107  0.397325      NaN -0.008499   \n",
      "\n",
      "            weathersit      temp     atemp       hum  windspeed    casual  \\\n",
      "instant      -0.220022  0.164053  0.117704 -0.403658   0.206271  0.219238   \n",
      "season             NaN       NaN       NaN       NaN        NaN       NaN   \n",
      "yr                 NaN       NaN       NaN       NaN        NaN       NaN   \n",
      "mnth          0.027074  0.126446  0.091299 -0.125794   0.142861  0.074397   \n",
      "hr           -0.054857  0.278821  0.225257 -0.211255   0.097096  0.203295   \n",
      "holiday            NaN       NaN       NaN       NaN        NaN       NaN   \n",
      "weekday       0.052128 -0.289220 -0.319828  0.049960   0.023188 -0.120978   \n",
      "weathersit    1.000000 -0.093247 -0.036555  0.531591  -0.228990 -0.156710   \n",
      "temp         -0.093247  1.000000  0.909959 -0.182066   0.242623  0.530170   \n",
      "atemp        -0.036555  0.909959  1.000000 -0.019152  -0.130303  0.485061   \n",
      "hum           0.531591 -0.182066 -0.019152  1.000000  -0.462165 -0.337181   \n",
      "windspeed    -0.228990  0.242623 -0.130303 -0.462165   1.000000  0.154892   \n",
      "casual       -0.156710  0.530170  0.485061 -0.337181   0.154892  1.000000   \n",
      "registered   -0.088272  0.183277  0.103077 -0.255911   0.173689  0.375657   \n",
      "cnt          -0.108713  0.261536  0.179776 -0.294684   0.187071  0.520903   \n",
      "\n",
      "            registered       cnt  \n",
      "instant       0.041795  0.076839  \n",
      "season             NaN       NaN  \n",
      "yr                 NaN       NaN  \n",
      "mnth          0.063073  0.071107  \n",
      "hr            0.392769  0.397325  \n",
      "holiday            NaN       NaN  \n",
      "weekday       0.013744 -0.008499  \n",
      "weathersit   -0.088272 -0.108713  \n",
      "temp          0.183277  0.261536  \n",
      "atemp         0.103077  0.179776  \n",
      "hum          -0.255911 -0.294684  \n",
      "windspeed     0.173689  0.187071  \n",
      "casual        0.375657  0.520903  \n",
      "registered    1.000000  0.986777  \n",
      "cnt           0.986777  1.000000  \n"
     ]
    },
    {
     "name": "stderr",
     "output_type": "stream",
     "text": [
      "C:\\Users\\HP\\AppData\\Local\\Temp\\ipykernel_25372\\1763672021.py:1: FutureWarning: The default value of numeric_only in DataFrame.corr is deprecated. In a future version, it will default to False. Select only valid columns or specify the value of numeric_only to silence this warning.\n",
      "  correlation_matrix = df3.corr()\n"
     ]
    }
   ],
   "source": [
    "correlation_matrix = df3.corr()\n",
    "print(\"Correlation matrix for the entire DataFrame:\")\n",
    "print(correlation_matrix)"
   ]
  },
  {
   "cell_type": "code",
   "execution_count": null,
   "id": "7a12d0fa",
   "metadata": {},
   "outputs": [],
   "source": []
  },
  {
   "cell_type": "code",
   "execution_count": null,
   "id": "7b174c3b",
   "metadata": {},
   "outputs": [],
   "source": []
  }
 ],
 "metadata": {
  "kernelspec": {
   "display_name": "Python 3 (ipykernel)",
   "language": "python",
   "name": "python3"
  },
  "language_info": {
   "codemirror_mode": {
    "name": "ipython",
    "version": 3
   },
   "file_extension": ".py",
   "mimetype": "text/x-python",
   "name": "python",
   "nbconvert_exporter": "python",
   "pygments_lexer": "ipython3",
   "version": "3.10.9"
  }
 },
 "nbformat": 4,
 "nbformat_minor": 5
}
